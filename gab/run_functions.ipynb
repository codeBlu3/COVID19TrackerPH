{
 "cells": [
  {
   "cell_type": "code",
   "execution_count": 1,
   "metadata": {},
   "outputs": [
    {
     "name": "stderr",
     "output_type": "stream",
     "text": [
      "[nltk_data] Downloading package averaged_perceptron_tagger to\n",
      "[nltk_data]     C:\\Users\\Gab Daos\\AppData\\Roaming\\nltk_data...\n",
      "[nltk_data]   Package averaged_perceptron_tagger is already up-to-\n",
      "[nltk_data]       date!\n"
     ]
    }
   ],
   "source": [
    "from article_parser import get_covid_counts"
   ]
  },
  {
   "cell_type": "code",
   "execution_count": 2,
   "metadata": {},
   "outputs": [
    {
     "name": "stderr",
     "output_type": "stream",
     "text": [
      "C:\\Users\\Gab Daos\\Documents\\Mago\\Git Projects\\COVID19TrackerPH\\gab\\article_parser.py:84: FutureWarning: Sorting because non-concatenation axis is not aligned. A future version\n",
      "of pandas will change to not sort by default.\n",
      "\n",
      "To accept the future behavior, pass 'sort=False'.\n",
      "\n",
      "To retain the current behavior and silence the warning, pass 'sort=True'.\n",
      "\n",
      "  df = pd.concat(dfs,ignore_index=True)\n"
     ]
    },
    {
     "ename": "PermissionError",
     "evalue": "[Errno 13] Permission denied: 'ncov_parsed.csv'",
     "output_type": "error",
     "traceback": [
      "\u001b[1;31m---------------------------------------------------------------------------\u001b[0m",
      "\u001b[1;31mPermissionError\u001b[0m                           Traceback (most recent call last)",
      "\u001b[1;32m<ipython-input-2-a77ff69739b3>\u001b[0m in \u001b[0;36m<module>\u001b[1;34m\u001b[0m\n\u001b[1;32m----> 1\u001b[1;33m \u001b[0mget_covid_counts\u001b[0m\u001b[1;33m(\u001b[0m\u001b[1;33m)\u001b[0m\u001b[1;33m\u001b[0m\u001b[1;33m\u001b[0m\u001b[0m\n\u001b[0m",
      "\u001b[1;32m~\\Documents\\Mago\\Git Projects\\COVID19TrackerPH\\gab\\article_parser.py\u001b[0m in \u001b[0;36mget_covid_counts\u001b[1;34m()\u001b[0m\n\u001b[0;32m    284\u001b[0m     \u001b[0mdf\u001b[0m \u001b[1;33m=\u001b[0m \u001b[0mdf\u001b[0m\u001b[1;33m.\u001b[0m\u001b[0msort_values\u001b[0m\u001b[1;33m(\u001b[0m\u001b[1;34m'Date'\u001b[0m\u001b[1;33m)\u001b[0m\u001b[1;33m\u001b[0m\u001b[1;33m\u001b[0m\u001b[0m\n\u001b[0;32m    285\u001b[0m \u001b[1;33m\u001b[0m\u001b[0m\n\u001b[1;32m--> 286\u001b[1;33m     \u001b[0mdf\u001b[0m\u001b[1;33m.\u001b[0m\u001b[0mto_csv\u001b[0m\u001b[1;33m(\u001b[0m\u001b[1;34m'ncov_parsed.csv'\u001b[0m\u001b[1;33m,\u001b[0m \u001b[0mindex\u001b[0m \u001b[1;33m=\u001b[0m \u001b[1;32mFalse\u001b[0m\u001b[1;33m)\u001b[0m\u001b[1;33m\u001b[0m\u001b[1;33m\u001b[0m\u001b[0m\n\u001b[0m\u001b[0;32m    287\u001b[0m     \u001b[1;32mreturn\u001b[0m \u001b[0mdf\u001b[0m\u001b[1;33m\u001b[0m\u001b[1;33m\u001b[0m\u001b[0m\n",
      "\u001b[1;32mC:\\Anaconda\\lib\\site-packages\\pandas\\core\\generic.py\u001b[0m in \u001b[0;36mto_csv\u001b[1;34m(self, path_or_buf, sep, na_rep, float_format, columns, header, index, index_label, mode, encoding, compression, quoting, quotechar, line_terminator, chunksize, tupleize_cols, date_format, doublequote, escapechar, decimal)\u001b[0m\n\u001b[0;32m   3018\u001b[0m                                  \u001b[0mdoublequote\u001b[0m\u001b[1;33m=\u001b[0m\u001b[0mdoublequote\u001b[0m\u001b[1;33m,\u001b[0m\u001b[1;33m\u001b[0m\u001b[1;33m\u001b[0m\u001b[0m\n\u001b[0;32m   3019\u001b[0m                                  escapechar=escapechar, decimal=decimal)\n\u001b[1;32m-> 3020\u001b[1;33m         \u001b[0mformatter\u001b[0m\u001b[1;33m.\u001b[0m\u001b[0msave\u001b[0m\u001b[1;33m(\u001b[0m\u001b[1;33m)\u001b[0m\u001b[1;33m\u001b[0m\u001b[1;33m\u001b[0m\u001b[0m\n\u001b[0m\u001b[0;32m   3021\u001b[0m \u001b[1;33m\u001b[0m\u001b[0m\n\u001b[0;32m   3022\u001b[0m         \u001b[1;32mif\u001b[0m \u001b[0mpath_or_buf\u001b[0m \u001b[1;32mis\u001b[0m \u001b[1;32mNone\u001b[0m\u001b[1;33m:\u001b[0m\u001b[1;33m\u001b[0m\u001b[1;33m\u001b[0m\u001b[0m\n",
      "\u001b[1;32mC:\\Anaconda\\lib\\site-packages\\pandas\\io\\formats\\csvs.py\u001b[0m in \u001b[0;36msave\u001b[1;34m(self)\u001b[0m\n\u001b[0;32m    155\u001b[0m             f, handles = _get_handle(self.path_or_buf, self.mode,\n\u001b[0;32m    156\u001b[0m                                      \u001b[0mencoding\u001b[0m\u001b[1;33m=\u001b[0m\u001b[0mself\u001b[0m\u001b[1;33m.\u001b[0m\u001b[0mencoding\u001b[0m\u001b[1;33m,\u001b[0m\u001b[1;33m\u001b[0m\u001b[1;33m\u001b[0m\u001b[0m\n\u001b[1;32m--> 157\u001b[1;33m                                      compression=self.compression)\n\u001b[0m\u001b[0;32m    158\u001b[0m             \u001b[0mclose\u001b[0m \u001b[1;33m=\u001b[0m \u001b[1;32mTrue\u001b[0m\u001b[1;33m\u001b[0m\u001b[1;33m\u001b[0m\u001b[0m\n\u001b[0;32m    159\u001b[0m \u001b[1;33m\u001b[0m\u001b[0m\n",
      "\u001b[1;32mC:\\Anaconda\\lib\\site-packages\\pandas\\io\\common.py\u001b[0m in \u001b[0;36m_get_handle\u001b[1;34m(path_or_buf, mode, encoding, compression, memory_map, is_text)\u001b[0m\n\u001b[0;32m    422\u001b[0m         \u001b[1;32melif\u001b[0m \u001b[0mencoding\u001b[0m\u001b[1;33m:\u001b[0m\u001b[1;33m\u001b[0m\u001b[1;33m\u001b[0m\u001b[0m\n\u001b[0;32m    423\u001b[0m             \u001b[1;31m# Python 3 and encoding\u001b[0m\u001b[1;33m\u001b[0m\u001b[1;33m\u001b[0m\u001b[1;33m\u001b[0m\u001b[0m\n\u001b[1;32m--> 424\u001b[1;33m             \u001b[0mf\u001b[0m \u001b[1;33m=\u001b[0m \u001b[0mopen\u001b[0m\u001b[1;33m(\u001b[0m\u001b[0mpath_or_buf\u001b[0m\u001b[1;33m,\u001b[0m \u001b[0mmode\u001b[0m\u001b[1;33m,\u001b[0m \u001b[0mencoding\u001b[0m\u001b[1;33m=\u001b[0m\u001b[0mencoding\u001b[0m\u001b[1;33m,\u001b[0m \u001b[0mnewline\u001b[0m\u001b[1;33m=\u001b[0m\u001b[1;34m\"\"\u001b[0m\u001b[1;33m)\u001b[0m\u001b[1;33m\u001b[0m\u001b[1;33m\u001b[0m\u001b[0m\n\u001b[0m\u001b[0;32m    425\u001b[0m         \u001b[1;32melif\u001b[0m \u001b[0mis_text\u001b[0m\u001b[1;33m:\u001b[0m\u001b[1;33m\u001b[0m\u001b[1;33m\u001b[0m\u001b[0m\n\u001b[0;32m    426\u001b[0m             \u001b[1;31m# Python 3 and no explicit encoding\u001b[0m\u001b[1;33m\u001b[0m\u001b[1;33m\u001b[0m\u001b[1;33m\u001b[0m\u001b[0m\n",
      "\u001b[1;31mPermissionError\u001b[0m: [Errno 13] Permission denied: 'ncov_parsed.csv'"
     ]
    }
   ],
   "source": [
    "get_covid_counts()"
   ]
  },
  {
   "cell_type": "code",
   "execution_count": 11,
   "metadata": {},
   "outputs": [
    {
     "data": {
      "text/html": [
       "<div>\n",
       "<style scoped>\n",
       "    .dataframe tbody tr th:only-of-type {\n",
       "        vertical-align: middle;\n",
       "    }\n",
       "\n",
       "    .dataframe tbody tr th {\n",
       "        vertical-align: top;\n",
       "    }\n",
       "\n",
       "    .dataframe thead th {\n",
       "        text-align: right;\n",
       "    }\n",
       "</style>\n",
       "<table border=\"1\" class=\"dataframe\">\n",
       "  <thead>\n",
       "    <tr style=\"text-align: right;\">\n",
       "      <th></th>\n",
       "      <th>author</th>\n",
       "      <th>category</th>\n",
       "      <th>date</th>\n",
       "      <th>source_id</th>\n",
       "      <th>source_name</th>\n",
       "      <th>text</th>\n",
       "      <th>title</th>\n",
       "      <th>LDA_Topics</th>\n",
       "      <th>count_docs</th>\n",
       "      <th>PH_Loc</th>\n",
       "      <th>status</th>\n",
       "      <th>counts</th>\n",
       "      <th>case</th>\n",
       "      <th>Loc</th>\n",
       "    </tr>\n",
       "  </thead>\n",
       "  <tbody>\n",
       "  </tbody>\n",
       "</table>\n",
       "</div>"
      ],
      "text/plain": [
       "Empty DataFrame\n",
       "Columns: [author, category, date, source_id, source_name, text, title, LDA_Topics, count_docs, PH_Loc, status, counts, case, Loc]\n",
       "Index: []"
      ]
     },
     "execution_count": 11,
     "metadata": {},
     "output_type": "execute_result"
    }
   ],
   "source": [
    "df[df['counts'] == '1300\\n\\nConfirmed']"
   ]
  },
  {
   "cell_type": "code",
   "execution_count": 15,
   "metadata": {},
   "outputs": [
    {
     "ename": "SyntaxError",
     "evalue": "'return' outside function (<ipython-input-15-379a12db214a>, line 90)",
     "output_type": "error",
     "traceback": [
      "\u001b[1;36m  File \u001b[1;32m\"<ipython-input-15-379a12db214a>\"\u001b[1;36m, line \u001b[1;32m90\u001b[0m\n\u001b[1;33m    return df\u001b[0m\n\u001b[1;37m             ^\u001b[0m\n\u001b[1;31mSyntaxError\u001b[0m\u001b[1;31m:\u001b[0m 'return' outside function\n"
     ]
    }
   ],
   "source": [
    "import pandas as pd\n",
    "import numpy as np\n",
    "from scipy import stats \n",
    "import geopandas as gpd\n",
    "import datetime\n",
    "\n",
    "df = pd.read_csv('pre_processed_data.csv')\n",
    "\n",
    "# Filtering tables to those with PH Locations identified -----------------------\n",
    "\n",
    "df = df[df['counts'] != '1300\\r\\n\\r\\nConfirmed']\n",
    "df = df[df['Loc'] != '']\n",
    "\n",
    "\n",
    "\n",
    "df['counts'] = df.counts.astype(int)\n",
    "df = df.sort_values('date')\n",
    "\n",
    "# Parse the results ------------------------------------------------------\n",
    "def parse(df):\n",
    "    #print(df.info())\n",
    "\n",
    "    # Get min/max/mean values\n",
    "    dfa = pd.pivot_table(df, values = 'counts', index=['date', 'Loc'], columns='status', aggfunc=[min, max, np.mean, stats.mode])\n",
    "\n",
    "    # Remove multi-index\n",
    "    dfa.columns = [\"_\".join(pair) for pair in dfa.columns]\n",
    "    dfa = dfa.reset_index()\n",
    "\n",
    "    # Replace 0 with np.nan to forward fill null values\n",
    "    dfa = dfa.replace(0, np.nan)\n",
    "\n",
    "    # Forward filling needs to be by area\n",
    "    places = list(df['Loc'].unique())\n",
    "\n",
    "    global dfb\n",
    "    dfb = pd.DataFrame()\n",
    "    for place in places:\n",
    "        df_temp = dfa[dfa['Loc'] == place].fillna(method='ffill')\n",
    "        dfb = dfb.append(df_temp)\n",
    "    return dfb\n",
    "\n",
    "res = parse(df)\n",
    "\n",
    "# Cleaning results -----------------------------------------------------\n",
    "\n",
    "res = res[['date','Loc', 'min_suspected','min_confirmed']]\n",
    "res = res.fillna(0)\n",
    "res = res.sort_values('date')\n",
    "\n",
    "# Completing running total per date -------------------------------------\n",
    "\n",
    "def add_row(df, row):\n",
    "    df.loc[-1] = row\n",
    "    df.index = df.index + 1  \n",
    "    return df.sort_index()\n",
    "\n",
    "for Loc in res['Loc']:\n",
    "    sus_holder = 0\n",
    "    con_holder = 0\n",
    "    for date in res['date']:\n",
    "        if sum(res[res['date'] == date]['Loc'].str.contains(Loc)) > 0:\n",
    "\n",
    "            sus_holder = res[(res['date'] == date) & (res['Loc'] == Loc)]['min_suspected'].iloc[0]\n",
    "            con_holder = res[(res['date'] == date) & (res['Loc'] == Loc)]['min_confirmed'].iloc[0]\n",
    "        else:\n",
    "            add_row(res, [date, Loc, sus_holder, con_holder])\n",
    "\n",
    "\n",
    "res = res.sort_values('date')\n",
    "\n",
    "# Including the geolocations of each location -------------------------------------\n",
    "\n",
    "prov = gpd.read_file('prov_shp/prov_geo.shp')\n",
    "df = pd.merge(res, prov, left_on = 'Loc', right_on = 'Pro_Name')\n",
    "\n",
    "df['lat'] = [cor.split(',')[0] for cor in df['centroid']]\n",
    "df['long'] = [cor.split(',')[1] for cor in df['centroid']]\n",
    "\n",
    "# Cleaning final results -------------------------------------------------------\n",
    "\n",
    "df = df[['date','Loc','min_suspected','min_confirmed','long','lat']]\n",
    "df.columns = (['Date','Location','Suspected','Confirmed','Longitude','Latitude'])\n",
    "\n",
    "df['Date'] = [datetime.datetime.strptime(str(date), '%Y-%m-%d').strftime('%Y-%m-%dT%H:%M:%S.%f') for date in df['Date']]\n",
    "\n",
    "df = df.sort_values('Date')\n",
    "\n",
    "df.to_csv('ncov_parsed.csv', index = False)\n"
   ]
  },
  {
   "cell_type": "code",
   "execution_count": 2,
   "metadata": {},
   "outputs": [],
   "source": [
    "import urllib\n",
    "from bs4 import BeautifulSoup\n",
    "import pandas as pd\n",
    "import time\n",
    "from urllib.request import Request, urlopen"
   ]
  },
  {
   "cell_type": "code",
   "execution_count": 35,
   "metadata": {
    "collapsed": true,
    "jupyter": {
     "outputs_hidden": true
    }
   },
   "outputs": [
    {
     "name": "stdout",
     "output_type": "stream",
     "text": [
      "https://www.manilatimes.net/page/2/?s=coronavirus\n",
      "https://www.manilatimes.net/page/3/?s=coronavirus\n",
      "https://www.manilatimes.net/page/4/?s=coronavirus\n",
      "https://www.manilatimes.net/page/5/?s=coronavirus\n",
      "https://www.manilatimes.net/page/6/?s=coronavirus\n",
      "https://www.manilatimes.net/page/7/?s=coronavirus\n",
      "https://www.manilatimes.net/page/8/?s=coronavirus\n",
      "https://www.manilatimes.net/page/9/?s=coronavirus\n",
      "https://www.manilatimes.net/page/10/?s=coronavirus\n",
      "https://www.manilatimes.net/page/11/?s=coronavirus\n",
      "https://www.manilatimes.net/page/12/?s=coronavirus\n",
      "https://www.manilatimes.net/page/13/?s=coronavirus\n",
      "https://www.manilatimes.net/page/14/?s=coronavirus\n",
      "https://www.manilatimes.net/page/15/?s=coronavirus\n",
      "https://www.manilatimes.net/page/16/?s=coronavirus\n",
      "https://www.manilatimes.net/page/17/?s=coronavirus\n",
      "https://www.manilatimes.net/page/18/?s=coronavirus\n",
      "https://www.manilatimes.net/page/19/?s=coronavirus\n",
      "https://www.manilatimes.net/page/20/?s=coronavirus\n",
      "https://www.manilatimes.net/page/21/?s=coronavirus\n",
      "https://www.manilatimes.net/page/22/?s=coronavirus\n",
      "https://www.manilatimes.net/page/23/?s=coronavirus\n",
      "https://www.manilatimes.net/page/24/?s=coronavirus\n",
      "https://www.manilatimes.net/page/25/?s=coronavirus\n",
      "https://www.manilatimes.net/page/26/?s=coronavirus\n",
      "https://www.manilatimes.net/page/27/?s=coronavirus\n",
      "https://www.manilatimes.net/page/28/?s=coronavirus\n",
      "https://www.manilatimes.net/page/29/?s=coronavirus\n",
      "https://www.manilatimes.net/page/30/?s=coronavirus\n",
      "https://www.manilatimes.net/page/31/?s=coronavirus\n",
      "https://www.manilatimes.net/page/32/?s=coronavirus\n",
      "https://www.manilatimes.net/page/33/?s=coronavirus\n",
      "https://www.manilatimes.net/page/34/?s=coronavirus\n",
      "https://www.manilatimes.net/page/35/?s=coronavirus\n",
      "https://www.manilatimes.net/page/36/?s=coronavirus\n",
      "https://www.manilatimes.net/page/37/?s=coronavirus\n",
      "https://www.manilatimes.net/page/38/?s=coronavirus\n",
      "https://www.manilatimes.net/page/39/?s=coronavirus\n",
      "https://www.manilatimes.net/page/40/?s=coronavirus\n",
      "https://www.manilatimes.net/page/41/?s=coronavirus\n",
      "https://www.manilatimes.net/page/42/?s=coronavirus\n",
      "https://www.manilatimes.net/page/43/?s=coronavirus\n",
      "https://www.manilatimes.net/page/44/?s=coronavirus\n",
      "https://www.manilatimes.net/page/45/?s=coronavirus\n",
      "https://www.manilatimes.net/page/46/?s=coronavirus\n",
      "https://www.manilatimes.net/page/47/?s=coronavirus\n",
      "https://www.manilatimes.net/page/48/?s=coronavirus\n",
      "https://www.manilatimes.net/page/49/?s=coronavirus\n",
      "https://www.manilatimes.net/page/50/?s=coronavirus\n",
      "https://www.manilatimes.net/page/51/?s=coronavirus\n",
      "https://www.manilatimes.net/page/52/?s=coronavirus\n"
     ]
    }
   ],
   "source": [
    "user_agent = 'Mozilla/5.0 (X11; Ubuntu; Linux x86_64; rv:55.0)'\n",
    "page_url = 'https://www.manilatimes.net/?s=coronavirus'\n",
    "manila_times_news = []\n",
    "\n",
    "while page_url != False:\n",
    "    req = Request(page_url, headers={'User-Agent': 'Mozilla/5.0 (X11; Linux x86_64) AppleWebKit/537.11 (KHTML, like Gecko) Chrome/23.0.1271.64 Safari/537.11',\n",
    "        'Accept': 'text/html,application/xhtml+xml,application/xml;q=0.9,*/*;q=0.8',\n",
    "        'Accept-Charset': 'ISO-8859-1,utf-8;q=0.7,*;q=0.3',\n",
    "        'Accept-Encoding': 'none',\n",
    "        'Accept-Language': 'en-US,en;q=0.8',\n",
    "        'Connection': 'keep-alive'})\n",
    "    content = urlopen(req).read()\n",
    "    soup = BeautifulSoup(content)\n",
    "    res = (soup.find_all('a',{'rel':\"bookmark\"}))\n",
    "\n",
    "    manila_times_news += [url['href'] for url in res]\n",
    "    date = (soup.find_all('time'))\n",
    "    \n",
    "    page_link = soup.find('div',{'class':\"page-nav\"} )\n",
    "    \n",
    "    time.sleep(6)\n",
    "    if date[0]['datetime'] < '2020-01-20':\n",
    "        page_url = False\n",
    "    else:\n",
    "        page_url =  page_link.find_all('a')[-1]['href']\n",
    "        print(page_url)\n"
   ]
  },
  {
   "cell_type": "code",
   "execution_count": 37,
   "metadata": {},
   "outputs": [
    {
     "name": "stderr",
     "output_type": "stream",
     "text": [
      "C:\\Anaconda\\lib\\site-packages\\ipykernel_launcher.py:1: FutureWarning: The signature of `Series.to_csv` was aligned to that of `DataFrame.to_csv`, and argument 'header' will change its default value from False to True: please pass an explicit value to suppress this warning.\n",
      "  \"\"\"Entry point for launching an IPython kernel.\n"
     ]
    }
   ],
   "source": [
    "pd.Series(manila_times_news).to_csv('m_times_articles.csv', index = False)"
   ]
  },
  {
   "cell_type": "code",
   "execution_count": 3,
   "metadata": {},
   "outputs": [],
   "source": [
    "df = pd.read_csv('m_times_articles.csv');"
   ]
  },
  {
   "cell_type": "code",
   "execution_count": 4,
   "metadata": {},
   "outputs": [],
   "source": [
    "df = df.transpose()[0]"
   ]
  },
  {
   "cell_type": "code",
   "execution_count": 5,
   "metadata": {},
   "outputs": [
    {
     "data": {
      "text/plain": [
       "'https://www.manilatimes.net/2020/01/31/news/regions/mother-daughter-under-watch-for-ncov-in-nueva-vizcaya/678582/'"
      ]
     },
     "execution_count": 5,
     "metadata": {},
     "output_type": "execute_result"
    }
   ],
   "source": [
    "df['links']"
   ]
  },
  {
   "cell_type": "code",
   "execution_count": 77,
   "metadata": {},
   "outputs": [
    {
     "ename": "ValueError",
     "evalue": "unknown url type: 'h'",
     "output_type": "error",
     "traceback": [
      "\u001b[1;31m---------------------------------------------------------------------------\u001b[0m",
      "\u001b[1;31mValueError\u001b[0m                                Traceback (most recent call last)",
      "\u001b[1;32m<ipython-input-77-ef8c24a09577>\u001b[0m in \u001b[0;36m<module>\u001b[1;34m\u001b[0m\n\u001b[0;32m      7\u001b[0m         \u001b[1;34m'Accept-Encoding'\u001b[0m\u001b[1;33m:\u001b[0m \u001b[1;34m'none'\u001b[0m\u001b[1;33m,\u001b[0m\u001b[1;33m\u001b[0m\u001b[1;33m\u001b[0m\u001b[0m\n\u001b[0;32m      8\u001b[0m         \u001b[1;34m'Accept-Language'\u001b[0m\u001b[1;33m:\u001b[0m \u001b[1;34m'en-US,en;q=0.8'\u001b[0m\u001b[1;33m,\u001b[0m\u001b[1;33m\u001b[0m\u001b[1;33m\u001b[0m\u001b[0m\n\u001b[1;32m----> 9\u001b[1;33m         'Connection': 'keep-alive'})\n\u001b[0m\u001b[0;32m     10\u001b[0m     \u001b[0mcontent\u001b[0m \u001b[1;33m=\u001b[0m \u001b[0murlopen\u001b[0m\u001b[1;33m(\u001b[0m\u001b[0mreq\u001b[0m\u001b[1;33m)\u001b[0m\u001b[1;33m.\u001b[0m\u001b[0mread\u001b[0m\u001b[1;33m(\u001b[0m\u001b[1;33m)\u001b[0m\u001b[1;33m\u001b[0m\u001b[1;33m\u001b[0m\u001b[0m\n\u001b[0;32m     11\u001b[0m     \u001b[0msoup\u001b[0m \u001b[1;33m=\u001b[0m \u001b[0mBeautifulSoup\u001b[0m\u001b[1;33m(\u001b[0m\u001b[0mcontent\u001b[0m\u001b[1;33m)\u001b[0m\u001b[1;33m\u001b[0m\u001b[1;33m\u001b[0m\u001b[0m\n",
      "\u001b[1;32m~\\AppData\\Local\\Continuum\\anaconda3\\lib\\urllib\\request.py\u001b[0m in \u001b[0;36m__init__\u001b[1;34m(self, url, data, headers, origin_req_host, unverifiable, method)\u001b[0m\n\u001b[0;32m    326\u001b[0m                  \u001b[0morigin_req_host\u001b[0m\u001b[1;33m=\u001b[0m\u001b[1;32mNone\u001b[0m\u001b[1;33m,\u001b[0m \u001b[0munverifiable\u001b[0m\u001b[1;33m=\u001b[0m\u001b[1;32mFalse\u001b[0m\u001b[1;33m,\u001b[0m\u001b[1;33m\u001b[0m\u001b[1;33m\u001b[0m\u001b[0m\n\u001b[0;32m    327\u001b[0m                  method=None):\n\u001b[1;32m--> 328\u001b[1;33m         \u001b[0mself\u001b[0m\u001b[1;33m.\u001b[0m\u001b[0mfull_url\u001b[0m \u001b[1;33m=\u001b[0m \u001b[0murl\u001b[0m\u001b[1;33m\u001b[0m\u001b[1;33m\u001b[0m\u001b[0m\n\u001b[0m\u001b[0;32m    329\u001b[0m         \u001b[0mself\u001b[0m\u001b[1;33m.\u001b[0m\u001b[0mheaders\u001b[0m \u001b[1;33m=\u001b[0m \u001b[1;33m{\u001b[0m\u001b[1;33m}\u001b[0m\u001b[1;33m\u001b[0m\u001b[1;33m\u001b[0m\u001b[0m\n\u001b[0;32m    330\u001b[0m         \u001b[0mself\u001b[0m\u001b[1;33m.\u001b[0m\u001b[0munredirected_hdrs\u001b[0m \u001b[1;33m=\u001b[0m \u001b[1;33m{\u001b[0m\u001b[1;33m}\u001b[0m\u001b[1;33m\u001b[0m\u001b[1;33m\u001b[0m\u001b[0m\n",
      "\u001b[1;32m~\\AppData\\Local\\Continuum\\anaconda3\\lib\\urllib\\request.py\u001b[0m in \u001b[0;36mfull_url\u001b[1;34m(self, url)\u001b[0m\n\u001b[0;32m    352\u001b[0m         \u001b[0mself\u001b[0m\u001b[1;33m.\u001b[0m\u001b[0m_full_url\u001b[0m \u001b[1;33m=\u001b[0m \u001b[0munwrap\u001b[0m\u001b[1;33m(\u001b[0m\u001b[0murl\u001b[0m\u001b[1;33m)\u001b[0m\u001b[1;33m\u001b[0m\u001b[1;33m\u001b[0m\u001b[0m\n\u001b[0;32m    353\u001b[0m         \u001b[0mself\u001b[0m\u001b[1;33m.\u001b[0m\u001b[0m_full_url\u001b[0m\u001b[1;33m,\u001b[0m \u001b[0mself\u001b[0m\u001b[1;33m.\u001b[0m\u001b[0mfragment\u001b[0m \u001b[1;33m=\u001b[0m \u001b[0msplittag\u001b[0m\u001b[1;33m(\u001b[0m\u001b[0mself\u001b[0m\u001b[1;33m.\u001b[0m\u001b[0m_full_url\u001b[0m\u001b[1;33m)\u001b[0m\u001b[1;33m\u001b[0m\u001b[1;33m\u001b[0m\u001b[0m\n\u001b[1;32m--> 354\u001b[1;33m         \u001b[0mself\u001b[0m\u001b[1;33m.\u001b[0m\u001b[0m_parse\u001b[0m\u001b[1;33m(\u001b[0m\u001b[1;33m)\u001b[0m\u001b[1;33m\u001b[0m\u001b[1;33m\u001b[0m\u001b[0m\n\u001b[0m\u001b[0;32m    355\u001b[0m \u001b[1;33m\u001b[0m\u001b[0m\n\u001b[0;32m    356\u001b[0m     \u001b[1;33m@\u001b[0m\u001b[0mfull_url\u001b[0m\u001b[1;33m.\u001b[0m\u001b[0mdeleter\u001b[0m\u001b[1;33m\u001b[0m\u001b[1;33m\u001b[0m\u001b[0m\n",
      "\u001b[1;32m~\\AppData\\Local\\Continuum\\anaconda3\\lib\\urllib\\request.py\u001b[0m in \u001b[0;36m_parse\u001b[1;34m(self)\u001b[0m\n\u001b[0;32m    381\u001b[0m         \u001b[0mself\u001b[0m\u001b[1;33m.\u001b[0m\u001b[0mtype\u001b[0m\u001b[1;33m,\u001b[0m \u001b[0mrest\u001b[0m \u001b[1;33m=\u001b[0m \u001b[0msplittype\u001b[0m\u001b[1;33m(\u001b[0m\u001b[0mself\u001b[0m\u001b[1;33m.\u001b[0m\u001b[0m_full_url\u001b[0m\u001b[1;33m)\u001b[0m\u001b[1;33m\u001b[0m\u001b[1;33m\u001b[0m\u001b[0m\n\u001b[0;32m    382\u001b[0m         \u001b[1;32mif\u001b[0m \u001b[0mself\u001b[0m\u001b[1;33m.\u001b[0m\u001b[0mtype\u001b[0m \u001b[1;32mis\u001b[0m \u001b[1;32mNone\u001b[0m\u001b[1;33m:\u001b[0m\u001b[1;33m\u001b[0m\u001b[1;33m\u001b[0m\u001b[0m\n\u001b[1;32m--> 383\u001b[1;33m             \u001b[1;32mraise\u001b[0m \u001b[0mValueError\u001b[0m\u001b[1;33m(\u001b[0m\u001b[1;34m\"unknown url type: %r\"\u001b[0m \u001b[1;33m%\u001b[0m \u001b[0mself\u001b[0m\u001b[1;33m.\u001b[0m\u001b[0mfull_url\u001b[0m\u001b[1;33m)\u001b[0m\u001b[1;33m\u001b[0m\u001b[1;33m\u001b[0m\u001b[0m\n\u001b[0m\u001b[0;32m    384\u001b[0m         \u001b[0mself\u001b[0m\u001b[1;33m.\u001b[0m\u001b[0mhost\u001b[0m\u001b[1;33m,\u001b[0m \u001b[0mself\u001b[0m\u001b[1;33m.\u001b[0m\u001b[0mselector\u001b[0m \u001b[1;33m=\u001b[0m \u001b[0msplithost\u001b[0m\u001b[1;33m(\u001b[0m\u001b[0mrest\u001b[0m\u001b[1;33m)\u001b[0m\u001b[1;33m\u001b[0m\u001b[1;33m\u001b[0m\u001b[0m\n\u001b[0;32m    385\u001b[0m         \u001b[1;32mif\u001b[0m \u001b[0mself\u001b[0m\u001b[1;33m.\u001b[0m\u001b[0mhost\u001b[0m\u001b[1;33m:\u001b[0m\u001b[1;33m\u001b[0m\u001b[1;33m\u001b[0m\u001b[0m\n",
      "\u001b[1;31mValueError\u001b[0m: unknown url type: 'h'"
     ]
    }
   ],
   "source": [
    "mt_df = pd.DataFrame(columns = ['source_id','date','category','title','author','text'])\n",
    "for article in df['links']:  \n",
    "    user_agent = 'Mozilla/5.0 (X11; Ubuntu; Linux x86_64; rv:55.0) '\n",
    "    req = Request(article, headers={'User-Agent': \"Mozilla/5.0 (X11; Linux x86_64) AppleWebKit/537.11 (KHTML, like Gecko) Chrome/23.0.1271.64 Safari/537.11\",\n",
    "        'Accept': 'text/html,application/xhtml+xml,application/xml;q=0.9,*/*;q=0.8',\n",
    "        'Accept-Charset': 'ISO-8859-1,utf-8;q=0.7,*;q=0.3',\n",
    "        'Accept-Encoding': 'none',\n",
    "        'Accept-Language': 'en-US,en;q=0.8',\n",
    "        'Connection': 'keep-alive'})\n",
    "    content = urlopen(req).read()\n",
    "    soup = BeautifulSoup(content)\n",
    "\n",
    "    try:\n",
    "        article_id = ''\n",
    "\n",
    "        date = soup.find('time').text\n",
    "\n",
    "        category = 'nCov'\n",
    "        title = soup.find('h1', {'class' : 'tdb-title-text'}).text\n",
    "        author = soup.find('a', {'class' : 'tdb-author-name'}).text\n",
    "\n",
    "        text = soup.find('div', {'class' : 'td-post-content'})\n",
    "        text.find_all('p')\n",
    "\n",
    "        paragraph = \"\"\n",
    "        for x in text.find_all('p'):\n",
    "            paragraph += x.text.strip() + \" \" \n",
    "\n",
    "        text = paragraph\n",
    "    except AttributeError:\n",
    "        continue\n",
    "\n",
    "    print(title, date)\n",
    "    mt_df = mt_df.append(pd.Series([article_id,date,category, title,author, text], index = mt_df.columns ), ignore_index=True)\n",
    "    time.sleep(1)\n",
    "    \n",
    "#mt_df.to_csv('scraped_data/manila_times_scraped.csv', index = False)"
   ]
  },
  {
   "cell_type": "code",
   "execution_count": 70,
   "metadata": {},
   "outputs": [],
   "source": [
    "mt_df_holder = mt_df"
   ]
  },
  {
   "cell_type": "code",
   "execution_count": 71,
   "metadata": {},
   "outputs": [],
   "source": [
    "mt_df.to_csv('scraped_data/manila_times_scraped.csv', index = False)"
   ]
  },
  {
   "cell_type": "code",
   "execution_count": null,
   "metadata": {},
   "outputs": [],
   "source": [
    "user_agent = 'Mozilla/5.0 (X11; Ubuntu; Linux x86_64; rv:55.0) '\n",
    "req = Request(article, headers={'User-Agent': \"Mozilla/5.0 (X11; Linux x86_64) AppleWebKit/537.11 (KHTML, like Gecko) Chrome/23.0.1271.64 Safari/537.11\",\n",
    "'Accept': 'text/html,application/xhtml+xml,application/xml;q=0.9,*/*;q=0.8',\n",
    "'Accept-Charset': 'ISO-8859-1,utf-8;q=0.7,*;q=0.3',\n",
    "'Accept-Encoding': 'none',\n",
    "'Accept-Language': 'en-US,en;q=0.8',\n",
    "'Connection': 'keep-alive'})\n",
    "content = urlopen(req).read()\n",
    "soup = BeautifulSoup(content)\n",
    "\n",
    "article_id = ''\n",
    "\n",
    "date = soup.find('time').text\n",
    "\n",
    "category = 'nCov'\n",
    "title = soup.find('h1', {'class' : 'tdb-title-text'}).text\n",
    "author = soup.find('a', {'class' : 'tdb-author-name'}).text\n",
    "\n",
    "text = soup.find('div', {'class' : 'td-post-content'})\n",
    "text.find_all('p')\n",
    "\n",
    "paragraph = \"\"\n",
    "for x in text.find_all('p'):\n",
    "    paragraph += x.text.strip() + \" \" \n",
    "\n",
    "text = paragraph\n"
   ]
  },
  {
   "cell_type": "code",
   "execution_count": 1,
   "metadata": {},
   "outputs": [],
   "source": [
    "import pandas as pd"
   ]
  },
  {
   "cell_type": "code",
   "execution_count": 3,
   "metadata": {},
   "outputs": [],
   "source": [
    "df = pd.read_csv('scraped_data/abscbn_scraped.csv')"
   ]
  },
  {
   "cell_type": "code",
   "execution_count": 13,
   "metadata": {},
   "outputs": [],
   "source": [
    "test = 'Australia confirms 1st coronavirucases'"
   ]
  },
  {
   "cell_type": "code",
   "execution_count": 14,
   "metadata": {},
   "outputs": [],
   "source": [
    "article_list = list(df['title'].unique())"
   ]
  },
  {
   "cell_type": "code",
   "execution_count": 15,
   "metadata": {},
   "outputs": [
    {
     "data": {
      "text/plain": [
       "False"
      ]
     },
     "execution_count": 15,
     "metadata": {},
     "output_type": "execute_result"
    }
   ],
   "source": [
    "test in article_list"
   ]
  },
  {
   "cell_type": "code",
   "execution_count": null,
   "metadata": {},
   "outputs": [],
   "source": []
  },
  {
   "cell_type": "code",
   "execution_count": 1,
   "metadata": {},
   "outputs": [],
   "source": [
    "from news_scrapers import get_rappler"
   ]
  },
  {
   "cell_type": "code",
   "execution_count": 2,
   "metadata": {},
   "outputs": [
    {
     "name": "stderr",
     "output_type": "stream",
     "text": [
      "C:\\Users\\Gab Daos\\Documents\\Mago\\Git Projects\\COVID19TrackerPH\\gab\\news_scrapers.py:97: UserWarning: No parser was explicitly specified, so I'm using the best available HTML parser for this system (\"lxml\"). This usually isn't a problem, but if you run this code on another system, or in a different virtual environment, it may use a different parser and behave differently.\n",
      "\n",
      "The code that caused this warning is on line 97 of the file C:\\Users\\Gab Daos\\Documents\\Mago\\Git Projects\\COVID19TrackerPH\\gab\\news_scrapers.py. To get rid of this warning, pass the additional argument 'features=\"lxml\"' to the BeautifulSoup constructor.\n",
      "\n",
      "  soup = BeautifulSoup(content)\n",
      "C:\\Users\\Gab Daos\\Documents\\Mago\\Git Projects\\COVID19TrackerPH\\gab\\news_scrapers.py:128: UserWarning: No parser was explicitly specified, so I'm using the best available HTML parser for this system (\"lxml\"). This usually isn't a problem, but if you run this code on another system, or in a different virtual environment, it may use a different parser and behave differently.\n",
      "\n",
      "The code that caused this warning is on line 128 of the file C:\\Users\\Gab Daos\\Documents\\Mago\\Git Projects\\COVID19TrackerPH\\gab\\news_scrapers.py. To get rid of this warning, pass the additional argument 'features=\"lxml\"' to the BeautifulSoup constructor.\n",
      "\n",
      "  soup = BeautifulSoup(content)\n"
     ]
    },
    {
     "name": "stdout",
     "output_type": "stream",
     "text": [
      "WATCH: Military demonstrates vehicle inspections for Metro Manila lockdown March 14, 2020\n",
      "[OPINION] Notes from a supermarket on the last day of freedom March 14, 2020\n",
      "Groups slam 'grossly anti-poor' measures for labor during Metro Manila lockdown March 14, 2020\n",
      "Let the music play: Bullet Dumas offers free download for 'Usisa,' O/C Records plans 'online concert' March 14, 2020\n",
      "Governor confirms death of coronavirus patient in Pampanga March 14, 2020\n",
      "Coast Guard to enforce 'no sail' policy during lockdown March 14, 2020\n",
      "Shops offer free coffee, food to healthcare workers amid coronavirus March 14, 2020\n",
      "Negros Occidental, Olongapo order arrivals from Metro Manila to undergo quarantine March 14, 2020\n",
      "UST, Adamson declared UAAP girls basketball co-champions March 14, 2020\n",
      "PH coronavirus cases climb to 111 March 14, 2020\n",
      "WATCH: DOH updates on 2019 novel coronavirus March 14, 2020\n",
      "Aklan's first coronavirus PUI sent to home quarantine March 14, 2020\n",
      "IN PHOTOS: Mass exodus before Metro Manila 'lockdown' March 14, 2020\n",
      "DFA limits consular services to 'urgent needs' during Metro Manila lockdown March 14, 2020\n",
      "LIST: Grocery delivery options in Metro Manila March 14, 2020\n",
      "ABS-CBN announces temporary primetime lineup as production grinds to a halt March 14, 2020\n",
      "Philippines limits new travel restrictions to Italy, Iran March 14, 2020\n",
      "LIST: Who can cross into, exit Metro Manila during coronavirus lockdown March 14, 2020\n",
      "Metro Manila mayors ask malls to close during coronavirus lockdown March 14, 2020\n",
      "Metro Manila to be placed under curfew during lockdown March 14, 2020\n",
      "Malacañang extends class, gov't work suspension in Metro Manila to April 14 March 14, 2020\n",
      "Philippines tallies 8th coronavirus death March 14, 2020\n",
      "Bataan steps up measures vs coronavirus as it records first case March 14, 2020\n",
      "Amid virus scare, Batangas bars donors from Taal evacuees' shelter March 14, 2020\n",
      "ABS-CBN suspends live entertainment shows, teleserye productions March 14, 2020\n",
      "Duterte tests negative for coronavirus March 13, 2020\n",
      "PH reports 12 new coronavirus cases; total now 64 March 13, 2020\n",
      "'Babalik din sa atin 'yon,' Vico Sotto warns hoarders of disinfectants March 13, 2020\n",
      "2 coronavirus patients now confined at hospital in Pampanga March 13, 2020\n",
      "Wild ride: PSEi gains 1% as coronavirus ramps up volatility March 13, 2020\n",
      "Consider backyard, rooftop planting during lockdown – DA March 13, 2020\n",
      "WATCH: Gary Valenciano's shares live version of 'Take Me Out of the Dark' amid coronavirus uncertainty March 13, 2020\n",
      "PLDT to boost speed for fiber customers in Metro Manila, parts of Greater Manila March 13, 2020\n",
      "Quezon City declares state of calamity due to coronavirus March 13, 2020\n",
      "PH coronavirus watch: Suspected cases per region, as of March 13, 2020 March 13, 2020\n",
      "DFA advises Filipinos to avoid non-essential travel to Israel March 13, 2020\n",
      "Bacolod suspends graduation rites, shortens classes due to coronavirus threat March 13, 2020\n",
      "U.P. coronavirus test kits still need gov't validation, no mass use yet March 13, 2020\n",
      "Cavite shortens school year, puts graduation rites on hold amid virus risks March 13, 2020\n",
      "FDA warns public vs unregistered coronavirus home test kits sold online March 13, 2020\n",
      "PNP wants to arrest violators of Metro Manila lockdown March 13, 2020\n",
      "Military has no say on lockdown rules, will only help police enforce them – Lorenzana March 13, 2020\n",
      "How does the U.P.-developed coronavirus detection kit work? March 13, 2020\n",
      "DepEd to offer online exams during Metro Manila class suspension March 13, 2020\n",
      "MRT3 holds dry run of social distancing at stations March 13, 2020\n",
      "[OPINION] In defense of a Lenten lockdown March 13, 2020\n",
      "Governor Yap places Bohol under 5-day quarantine starting March 16 March 13, 2020\n",
      "Pampanga records 2 coronavirus cases including Grab driver March 13, 2020\n",
      "Historical commission closes Rizal National Shrine in Dapitan due to virus scare March 13, 2020\n",
      "Singapore cautions nationals vs traveling to Philippines March 13, 2020\n",
      "Gov’t frontline services in Metro Manila to continue despite lockdown March 13, 2020\n",
      "Cainta under quarantine starting March 15 due to coronavirus cases March 13, 2020\n",
      "[OPINION] With the coronavirus crisis, it's business unusual March 13, 2020\n",
      "‘How can the couple kiss?’ Gov’t says postpone weddings during virus lockdown March 13, 2020\n",
      "Quezon City boosts quarantine measures during coronavirus lockdown March 13, 2020\n",
      "Goods, necessities to be allowed in Metro Manila despite lockdown – Nograles March 13, 2020\n",
      "DTI to informal workers: Sell outside of Metro Manila in the meantime March 13, 2020\n",
      "'Customer not always right': Alcohol hoarders should be sent out of stores, says DTI March 13, 2020\n",
      "Metro Manila lockdown can be lifted any time after declaration March 13, 2020\n",
      "Task force scraps LoveBoracay 2.0, other scheduled events due to coronavirus scare March 13, 2020\n",
      "Batangas records 2 coronavirus cases March 13, 2020\n",
      "Filipino diplomat at U.N. tests positive for coronavirus March 13, 2020\n",
      "Manila churches suspend Masses amid coronavirus lockdown March 13, 2020\n",
      "Cops in Metro Manila, nearby regions on full alert due to coronavirus March 13, 2020\n",
      "Printing service staff member in House tests positive for coronavirus March 13, 2020\n",
      "‘Not martial law,’ Duterte says of Metro Manila lockdown over coronavirus March 13, 2020\n",
      "Aklan cancels public events in next 45 days to lessen coronavirus risks March 13, 2020\n",
      "Duterte praises China's Xi during coronavirus briefing March 12, 2020\n",
      "Davao City closes borders due to coronavirus outbreak March 12, 2020\n",
      "3 more Filipinos who caught coronavirus die in PH March 12, 2020\n",
      "PH coronavirus watch: Suspected cases per region, as of March 12, 2020 March 12, 2020\n",
      "Philippines bans foreigners from coronavirus-hit countries March 12, 2020\n",
      "OFWs can return to mainland China, except Hubei province March 12, 2020\n",
      "Alab Pilipinas, Chinese teams ask ABL to suspend league operations March 12, 2020\n",
      "Duterte suspends classes, work in gov't in Metro Manila until April 12 March 12, 2020\n",
      "Another Filipino in Singapore who visited PH gets coronavirus March 12, 2020\n",
      "Negros Oriental cops to enforce quarantine of students during class suspension March 12, 2020\n",
      "Pahayag ni VP Leni Robredo sa nagbabagong sitwasyon ukol sa COVID-19 March 12, 2020\n",
      "Robredo appeals: Work from home, protect the vulnerable March 12, 2020\n",
      "37 persons under investigation for coronavirus in Mandaue City  ",
      " March 12, 2020\n",
      "Hoarding, overpricing would lead to criminal charges, warns DTI March 12, 2020\n",
      "Duterte’s foreign trips suspended March 12, 2020\n",
      "Coronavirus patient in Mindanao was a resident of Pasig City March 12, 2020\n",
      "Senior high school students  of Albay school in quarantine after Senate visit March 12, 2020\n",
      "Novel coronavirus cases in the Philippines now at 52 March 12, 2020\n",
      "Confirmed coronavirus case in Negros Oriental is a councilor March 12, 2020\n",
      "Richard Gutierrez, Sarah Lahbati postpone wedding because of coronavirus threat March 12, 2020\n",
      "Coronavirus meltdown: Circuit breaker triggered as PSEi falls 10% March 12, 2020\n",
      "PH athletes evacuate dorms as PSC restricts facility access March 12, 2020\n",
      "DTI orders nationwide price freeze amid coronavirus emergency March 12, 2020\n",
      "Half of senators in self-quarantine due to coronavirus threat March 12, 2020\n",
      "[ANALYSIS] Amid the coronavirus crisis, where have all the sin tax funds gone? March 12, 2020\n",
      "CHED urges schools to prepare for possible coronavirus ‘community-level transmission’ March 12, 2020\n",
      "Duterte Cabinet members in self-quarantine amid coronavirus fears March 12, 2020\n",
      "[ANALYSIS] Can Duterte ward off a coronavirus economic slump? March 12, 2020\n",
      "Coronavirus jitters send PSEi flirting with 5,900 March 12, 2020\n",
      "Eala siblings pulled out of tournaments due to coronavirus threat March 12, 2020\n",
      "Saudi Arabia bans flights to PH, 38 other countries amid coronavirus threat March 12, 2020\n",
      "Pampanga calls off ritual crucifixions over coronavirus March 12, 2020\n",
      "Sara Duterte on self-quarantine after lunch with Gatchalian March 12, 2020\n",
      "Coronavirus exposure prompts PH economic officials to self-quarantine March 12, 2020\n",
      "PH mission in UAE ‘ready to help’ Filipino visa runners amid coronavirus crisis March 12, 2020\n",
      "Belmonte confirms 5th coronavirus case in Quezon City March 12, 2020\n",
      "LIST: Philippine government officials under quarantine for coronavirus risks March 12, 2020\n",
      "Duterte to get tested for coronavirus March 12, 2020\n",
      "U.P. coronavirus test kits may be rolled out on March 16 March 12, 2020\n",
      "Tugade under self-quarantine after 'exposure' to coronavirus patient March 11, 2020\n",
      "Duterte backs out of Boracay visit over coronavirus threat March 11, 2020\n",
      "Senate under 'restricted access' after guest tests positive for coronavirus March 11, 2020\n",
      "Dominguez on self-quarantine after shaking hand of coronavirus patient March 11, 2020\n",
      "Gatchalian, Binay under self-quarantine after Senate guest tests positive for virus March 11, 2020\n",
      "Philippines records 1st local death due to coronavirus March 11, 2020\n",
      "Negros Oriental reports first coronavirus-positive case March 11, 2020\n",
      "Isko Moreno self-quarantines at Manila city hall March 11, 2020\n",
      "#SalamatUP: Netizens laud U.P. scientists for developing coronavirus test kits March 11, 2020\n",
      "3 more Filipinos in Singapore hit by coronavirus March 11, 2020\n",
      "Philippines may impose ‘localized lockdown’ under Code Red Sublevel 2 March 11, 2020\n",
      "How Metro schools continue lessons amid coronavirus threat March 11, 2020\n",
      "Albay sets up Mayon Skyline Hotel as coronavirus quarantine center March 11, 2020\n",
      "DepEd says proceeding with graduation ceremony 'up to school's discretion' March 11, 2020\n",
      "PH coronavirus watch: Suspected cases per region, as of March 11, 2020 March 11, 2020\n",
      "Medical City says it will 'remain open to all patients' March 11, 2020\n",
      "DOH confirms 16 new cases of coronavirus in PH; total now 49 March 11, 2020\n",
      "Liberia asks travelers from PH to self-monitor for coronavirus March 11, 2020\n",
      "Manila Water, Maynilad: 'Enough supply' amid coronavirus scare March 11, 2020\n",
      "PBA decision to indefinitely cancel games 'unanimous' March 11, 2020\n",
      "Duque: Hospitals refusing suspected coronavirus patients may face sanctions March 11, 2020\n",
      "Vico Sotto: Stay calm, don’t resort to panic buying March 11, 2020\n",
      "PhilHealth to shoulder coronavirus test costs – Malacañang March 11, 2020\n",
      "Duque: 'Problems' in reporting system delayed disclosure of coronavirus cases March 11, 2020\n",
      "7 of 33 coronavirus cases in PH are from San Juan March 11, 2020\n",
      "'Grave deficit' in face masks forcing some private hospitals to use old linen March 11, 2020\n",
      "3 from Japan, Singapore, South Korea get coronavirus after visiting PH March 11, 2020\n",
      "Philippines to borrow more than planned to combat coronavirus impact March 11, 2020\n",
      "March 15 civil service exams suspended due to coronavirus March 11, 2020\n",
      "DOH, PUV operators to discuss infection control amid coronavirus outbreak March 11, 2020\n",
      "5th Filipino in Hong Kong tests positive for coronavirus March 10, 2020\n",
      "LIST: Confirmed coronavirus cases in the Philippines as of March 13 March 10, 2020\n",
      "PH football events affected by coronavirus outbreak March 10, 2020\n",
      "LTFRB orders operators to sanitize PUVs amid coronavirus threat March 10, 2020\n",
      "Cebu imposes mandatory quarantine on arrivals from Iran, Italy March 10, 2020\n",
      "PH coronavirus watch: Suspected cases per region, as of March 10, 2020 March 10, 2020\n",
      "No holy water, 'mano po': Church's 12 measures vs coronavirus March 10, 2020\n",
      "Coronavirus threatens first Metro Manila Summer Film Festival March 10, 2020\n",
      "6 Filipinos infected with coronavirus on cruise ship in U.S. March 10, 2020\n",
      "DOH confirms 9 more coronavirus cases; total rises to 33 March 10, 2020\n",
      "PBA to discuss plans for new season amid coronavirus outbreak March 10, 2020\n",
      "Cavite confirms first positive case of coronavirus March 10, 2020\n",
      "Philippine malls set up safety measures vs coronavirus March 10, 2020\n",
      "First Filipino coronavirus patient in Hong Kong discharged March 10, 2020\n",
      "American coronavirus patient in PH in 'critical' condition – DOH March 10, 2020\n",
      "How can commuters evade virus? Use masks, hand sanitizers – Año March 10, 2020\n",
      "House panel OKs P1.65 billion supplemental fund for DOH to combat coronavirus March 10, 2020\n",
      "FDA approves coronavirus test kits developed by U.P. scientists March 10, 2020\n",
      "Metro Manila students barred from public spaces over coronavirus threat March 10, 2020\n",
      "No studio audience for 'It's Showtime,' 'ASAP,' to prevent coronavirus spread March 10, 2020\n",
      "UAAP suspended due to Metro Manila coronavirus threat March 10, 2020\n",
      "Duterte rejects Metro Manila coronavirus lockdown for now March 09, 2020\n",
      "'Coronavirus testing kits must be available in all hospitals' – Zubiri March 09, 2020\n",
      "Duterte announces 4 more novel coronavirus cases in PH March 09, 2020\n",
      "Coronavirus outbreak not an excuse to fire workers – TUCP March 09, 2020\n",
      "DOH says still safe to visit hospitals if feeling unwell March 09, 2020\n",
      "Enough bed capacities for quarantine facilities amid coronavirus crisis – DOH March 09, 2020\n",
      "PH coronavirus watch: Suspected cases per region, as of March 9, 2020 March 09, 2020\n",
      "Novel coronavirus cases in Philippines spike to 20 March 09, 2020\n",
      "Philippine stocks suffer worst nosedive since global financial crisis March 09, 2020\n",
      "Comelec suspends voter registration due to coronavirus threat March 09, 2020\n",
      "NCAA mulling outright termination of Season 95 due to coronavirus March 09, 2020\n",
      "Makati, Pasig, Quezon City take precautions vs novel coronavirus March 09, 2020\n",
      "Cebu to start screening domestic passengers after coronavirus cases confirmed in Metro Manila March 09, 2020\n",
      "Boracay combats coronavirus impact with discounts March 09, 2020\n",
      "Cebu Pacific execs take pay cut to save jobs as coronavirus hurts profits March 09, 2020\n",
      "PH airports to defer charging local airlines for a year due to coronavirus March 09, 2020\n",
      "SBMA starts coronavirus disinfection protocol March 09, 2020\n",
      "'No touch:' PSG bans close contact with Duterte amid coronavirus outbreak March 09, 2020\n",
      "Cook Islands bans travelers from PH, 13 other countries over coronavirus scare March 09, 2020\n",
      "Coronavirus seen to make Philippines miss 2020 GDP growth target March 09, 2020\n",
      "Duterte declares state of public health emergency amid rise in coronavirus cases March 09, 2020\n",
      "DOH: 4 new coronavirus cases admitted in hospitals in Metro Manila March 09, 2020\n",
      "Qatar bans travelers from PH, 13 other countries over coronavirus fears March 09, 2020\n",
      "‘No right to resist’ quarantine under state of public health emergency – DOH March 09, 2020\n",
      "Coronavirus cases in Philippines rise to 10 March 08, 2020\n",
      "Robredo calls for gov't transparency on coronavirus March 08, 2020\n",
      "PH coronavirus watch: Suspected cases per region, as of March 8, 2020 March 08, 2020\n",
      "Greenhills mall disinfects amid rise in coronavirus cases March 08, 2020\n",
      "PH senators to skip global lawmakers assembly over coronavirus threat March 07, 2020\n",
      "PH coronavirus watch: Suspected cases per region, as of March 7, 2020 March 07, 2020\n",
      "Office building in Taguig disinfects amid coronavirus case March 07, 2020\n",
      "Duterte to declare state of public health emergency over coronavirus March 07, 2020\n",
      "Deloitte Philippines confirms employee tested positive for coronavirus March 07, 2020\n",
      "163 Filipinos repatriated from Macau arrive in Manila March 07, 2020\n",
      "DFA urges Filipinos to postpone Holy Land trips amid coronavirus outbreak March 07, 2020\n",
      "62-year-old coronavirus patient in PH 'in a very critical condition' – DOH March 07, 2020\n",
      "Hotel occupancy down in Cebu due to coronavirus travel ban March 06, 2020\n",
      "OFWs appeal to PH gov’t: Lift travel ban on ‘safe areas’ in China March 06, 2020\n",
      "PH coronavirus watch: Suspected cases per region, as of March 6, 2020 March 06, 2020\n",
      "San Juan temporarily closes prayer hall frequented by coronavirus patient March 06, 2020\n",
      "DOH confirms first 2 Filipinos found with coronavirus locally March 06, 2020\n",
      "'COVID dance challenge': DOH brings battle vs coronavirus to TikTok March 05, 2020\n",
      "PH coronavirus watch: Suspected cases per region, as of March 5, 2020 March 05, 2020\n",
      "Saudi Arabia bans Filipino tourists over coronavirus outbreak March 05, 2020\n",
      "4 more Philippine laboratories may soon test samples for coronavirus  – DOH March 04, 2020\n",
      "Bello: 'No alarming unemployment rate' for OFWs amid coronavirus outbreak March 04, 2020\n",
      "PH coronavirus watch: Suspected cases per region, as of March 4, 2020 March 04, 2020\n",
      "DOLE issues guidelines for employers amid coronavirus outbreak March 04, 2020\n",
      "Philippines taps TikTok users to address coronavirus tourism impact March 04, 2020\n",
      "DOH: P530M 'enough' to combat coronavirus for now but more funds needed March 04, 2020\n",
      "Philippines to spend P6 billion to boost tourism amid novel coronavirus March 04, 2020\n",
      "15 repatriates quarantined at New Clark City test negative for coronavirus March 04, 2020\n",
      "40 Filipinos from cruise ship in Japan recover from coronavirus March 04, 2020\n",
      "In Hong Kong, Filipino domestic workers lose jobs over coronavirus outbreak March 03, 2020\n",
      "PH coronavirus watch: Suspected cases per region, as of March 3, 2020 March 03, 2020\n",
      "DFA to repatriate 148 Filipinos from Macau amid coronavirus outbreak March 03, 2020\n",
      "Philippines partially lifts ban on Filipino tourists bound for South Korea March 03, 2020\n",
      "'A mess': Coronavirus economic impact on Philippines worse than projected March 03, 2020\n",
      "Cebu Chinese community donates 5,000 masks to city amid coronavirus scare March 03, 2020\n",
      "Another Filipina maid gets coronavirus in Singapore March 02, 2020\n",
      "DOH tracks South Korean under monitoring in Cebu March 02, 2020\n",
      "PH coronavirus watch: Suspected cases per region, as of March 2, 2020 March 02, 2020\n",
      "10 quarantined Filipinos from Japan cruise ship coronavirus-free – DOH March 02, 2020\n",
      "Philippines to Saudi Arabia: Clarify scope of your coronavirus travel ban March 02, 2020\n",
      "At least P84 million given to OFWs hit by virus travel ban – OWWA March 02, 2020\n",
      "DOH won't 'let guard down' even as admitted PUIs for coronavirus down to 43 March 02, 2020\n",
      "PH coronavirus watch: Suspected cases per region, as of March 1, 2020 March 01, 2020\n",
      "Cebu's Garcia: Not right time for inter-school meets amid novel coronavirus outbreak March 01, 2020\n",
      "Iloilo sets policies on entry of capitol employees, visitors amid COVID-19 outbreak March 01, 2020\n",
      "11 Boracay tourists return to South Korea March 01, 2020\n",
      "Thousands may lose jobs due to COVID-19 impact on business – TUCP February 29, 2020\n",
      "QC trains health workers, volunteers vs coronavirus February 29, 2020\n",
      "PH coronavirus watch: Suspected cases per region, as of February 29, 2020 February 29, 2020\n",
      "COVID-19 scare reaches Dipolog February 29, 2020\n",
      "11 South Korean tourists in Boracay being monitored for coronavirus February 29, 2020\n",
      "Filipino coronavirus patient in Singapore discharged February 28, 2020\n",
      "19 tourists from virus-hit Korean city under quarantine in Cebu February 28, 2020\n",
      "Reached latest article\n"
     ]
    }
   ],
   "source": [
    "get_rappler()"
   ]
  },
  {
   "cell_type": "code",
   "execution_count": null,
   "metadata": {},
   "outputs": [],
   "source": []
  }
 ],
 "metadata": {
  "kernelspec": {
   "display_name": "Python 3",
   "language": "python",
   "name": "python3"
  },
  "language_info": {
   "codemirror_mode": {
    "name": "ipython",
    "version": 3
   },
   "file_extension": ".py",
   "mimetype": "text/x-python",
   "name": "python",
   "nbconvert_exporter": "python",
   "pygments_lexer": "ipython3",
   "version": "3.7.3"
  }
 },
 "nbformat": 4,
 "nbformat_minor": 4
}

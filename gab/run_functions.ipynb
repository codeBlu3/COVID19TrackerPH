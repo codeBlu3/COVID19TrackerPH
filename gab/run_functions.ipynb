{
 "cells": [
  {
   "cell_type": "code",
   "execution_count": 78,
   "metadata": {},
   "outputs": [
    {
     "name": "stderr",
     "output_type": "stream",
     "text": [
      "[nltk_data] Downloading package averaged_perceptron_tagger to\n",
      "[nltk_data]     C:\\Users\\jrdaos\\AppData\\Roaming\\nltk_data...\n",
      "[nltk_data]   Package averaged_perceptron_tagger is already up-to-\n",
      "[nltk_data]       date!\n"
     ]
    }
   ],
   "source": [
    "from article_parser import get_covid_counts"
   ]
  },
  {
   "cell_type": "code",
   "execution_count": 80,
   "metadata": {},
   "outputs": [
    {
     "ename": "TypeError",
     "evalue": "object of type 'float' has no len()",
     "output_type": "error",
     "traceback": [
      "\u001b[1;31m---------------------------------------------------------------------------\u001b[0m",
      "\u001b[1;31mTypeError\u001b[0m                                 Traceback (most recent call last)",
      "\u001b[1;32m<ipython-input-80-a77ff69739b3>\u001b[0m in \u001b[0;36m<module>\u001b[1;34m\u001b[0m\n\u001b[1;32m----> 1\u001b[1;33m \u001b[0mget_covid_counts\u001b[0m\u001b[1;33m(\u001b[0m\u001b[1;33m)\u001b[0m\u001b[1;33m\u001b[0m\u001b[1;33m\u001b[0m\u001b[0m\n\u001b[0m",
      "\u001b[1;32m~\\Documents\\Notebooks\\Mago\\COVID19TrackerPH\\gab\\article_parser.py\u001b[0m in \u001b[0;36mget_covid_counts\u001b[1;34m()\u001b[0m\n\u001b[0;32m     99\u001b[0m     \u001b[0mlistWords\u001b[0m \u001b[1;33m=\u001b[0m \u001b[1;33m[\u001b[0m\u001b[1;33m]\u001b[0m\u001b[1;33m\u001b[0m\u001b[1;33m\u001b[0m\u001b[0m\n\u001b[0;32m    100\u001b[0m     \u001b[1;32mfor\u001b[0m \u001b[0mitem\u001b[0m \u001b[1;32min\u001b[0m \u001b[0mwords\u001b[0m\u001b[1;33m:\u001b[0m\u001b[1;33m\u001b[0m\u001b[1;33m\u001b[0m\u001b[0m\n\u001b[1;32m--> 101\u001b[1;33m         \u001b[0mlistWords\u001b[0m\u001b[1;33m.\u001b[0m\u001b[0mappend\u001b[0m\u001b[1;33m(\u001b[0m\u001b[1;33m[\u001b[0m\u001b[0mnlp\u001b[0m\u001b[1;33m(\u001b[0m\u001b[0mitem\u001b[0m\u001b[1;33m)\u001b[0m\u001b[1;33m]\u001b[0m\u001b[1;33m)\u001b[0m\u001b[1;33m\u001b[0m\u001b[1;33m\u001b[0m\u001b[0m\n\u001b[0m\u001b[0;32m    102\u001b[0m \u001b[1;33m\u001b[0m\u001b[0m\n\u001b[0;32m    103\u001b[0m     \u001b[0mtopics\u001b[0m \u001b[1;33m=\u001b[0m \u001b[1;33m[\u001b[0m\u001b[1;33m]\u001b[0m\u001b[1;33m\u001b[0m\u001b[1;33m\u001b[0m\u001b[0m\n",
      "\u001b[1;32m~\\AppData\\Local\\Continuum\\anaconda3\\lib\\site-packages\\spacy\\language.py\u001b[0m in \u001b[0;36m__call__\u001b[1;34m(self, text, disable, component_cfg)\u001b[0m\n\u001b[0;32m    421\u001b[0m         \u001b[0mDOCS\u001b[0m\u001b[1;33m:\u001b[0m \u001b[0mhttps\u001b[0m\u001b[1;33m:\u001b[0m\u001b[1;33m//\u001b[0m\u001b[0mspacy\u001b[0m\u001b[1;33m.\u001b[0m\u001b[0mio\u001b[0m\u001b[1;33m/\u001b[0m\u001b[0mapi\u001b[0m\u001b[1;33m/\u001b[0m\u001b[0mlanguage\u001b[0m\u001b[1;31m#call\u001b[0m\u001b[1;33m\u001b[0m\u001b[1;33m\u001b[0m\u001b[0m\n\u001b[0;32m    422\u001b[0m         \"\"\"\n\u001b[1;32m--> 423\u001b[1;33m         \u001b[1;32mif\u001b[0m \u001b[0mlen\u001b[0m\u001b[1;33m(\u001b[0m\u001b[0mtext\u001b[0m\u001b[1;33m)\u001b[0m \u001b[1;33m>\u001b[0m \u001b[0mself\u001b[0m\u001b[1;33m.\u001b[0m\u001b[0mmax_length\u001b[0m\u001b[1;33m:\u001b[0m\u001b[1;33m\u001b[0m\u001b[1;33m\u001b[0m\u001b[0m\n\u001b[0m\u001b[0;32m    424\u001b[0m             raise ValueError(\n\u001b[0;32m    425\u001b[0m                 \u001b[0mErrors\u001b[0m\u001b[1;33m.\u001b[0m\u001b[0mE088\u001b[0m\u001b[1;33m.\u001b[0m\u001b[0mformat\u001b[0m\u001b[1;33m(\u001b[0m\u001b[0mlength\u001b[0m\u001b[1;33m=\u001b[0m\u001b[0mlen\u001b[0m\u001b[1;33m(\u001b[0m\u001b[0mtext\u001b[0m\u001b[1;33m)\u001b[0m\u001b[1;33m,\u001b[0m \u001b[0mmax_length\u001b[0m\u001b[1;33m=\u001b[0m\u001b[0mself\u001b[0m\u001b[1;33m.\u001b[0m\u001b[0mmax_length\u001b[0m\u001b[1;33m)\u001b[0m\u001b[1;33m\u001b[0m\u001b[1;33m\u001b[0m\u001b[0m\n",
      "\u001b[1;31mTypeError\u001b[0m: object of type 'float' has no len()"
     ]
    }
   ],
   "source": [
    "get_covid_counts()"
   ]
  },
  {
   "cell_type": "code",
   "execution_count": 81,
   "metadata": {},
   "outputs": [],
   "source": [
    "import urllib\n",
    "from bs4 import BeautifulSoup\n",
    "import pandas as pd\n",
    "import time\n",
    "from urllib.request import Request, urlopen"
   ]
  },
  {
   "cell_type": "code",
   "execution_count": 35,
   "metadata": {
    "collapsed": true,
    "jupyter": {
     "outputs_hidden": true
    }
   },
   "outputs": [
    {
     "name": "stdout",
     "output_type": "stream",
     "text": [
      "https://www.manilatimes.net/page/2/?s=coronavirus\n",
      "https://www.manilatimes.net/page/3/?s=coronavirus\n",
      "https://www.manilatimes.net/page/4/?s=coronavirus\n",
      "https://www.manilatimes.net/page/5/?s=coronavirus\n",
      "https://www.manilatimes.net/page/6/?s=coronavirus\n",
      "https://www.manilatimes.net/page/7/?s=coronavirus\n",
      "https://www.manilatimes.net/page/8/?s=coronavirus\n",
      "https://www.manilatimes.net/page/9/?s=coronavirus\n",
      "https://www.manilatimes.net/page/10/?s=coronavirus\n",
      "https://www.manilatimes.net/page/11/?s=coronavirus\n",
      "https://www.manilatimes.net/page/12/?s=coronavirus\n",
      "https://www.manilatimes.net/page/13/?s=coronavirus\n",
      "https://www.manilatimes.net/page/14/?s=coronavirus\n",
      "https://www.manilatimes.net/page/15/?s=coronavirus\n",
      "https://www.manilatimes.net/page/16/?s=coronavirus\n",
      "https://www.manilatimes.net/page/17/?s=coronavirus\n",
      "https://www.manilatimes.net/page/18/?s=coronavirus\n",
      "https://www.manilatimes.net/page/19/?s=coronavirus\n",
      "https://www.manilatimes.net/page/20/?s=coronavirus\n",
      "https://www.manilatimes.net/page/21/?s=coronavirus\n",
      "https://www.manilatimes.net/page/22/?s=coronavirus\n",
      "https://www.manilatimes.net/page/23/?s=coronavirus\n",
      "https://www.manilatimes.net/page/24/?s=coronavirus\n",
      "https://www.manilatimes.net/page/25/?s=coronavirus\n",
      "https://www.manilatimes.net/page/26/?s=coronavirus\n",
      "https://www.manilatimes.net/page/27/?s=coronavirus\n",
      "https://www.manilatimes.net/page/28/?s=coronavirus\n",
      "https://www.manilatimes.net/page/29/?s=coronavirus\n",
      "https://www.manilatimes.net/page/30/?s=coronavirus\n",
      "https://www.manilatimes.net/page/31/?s=coronavirus\n",
      "https://www.manilatimes.net/page/32/?s=coronavirus\n",
      "https://www.manilatimes.net/page/33/?s=coronavirus\n",
      "https://www.manilatimes.net/page/34/?s=coronavirus\n",
      "https://www.manilatimes.net/page/35/?s=coronavirus\n",
      "https://www.manilatimes.net/page/36/?s=coronavirus\n",
      "https://www.manilatimes.net/page/37/?s=coronavirus\n",
      "https://www.manilatimes.net/page/38/?s=coronavirus\n",
      "https://www.manilatimes.net/page/39/?s=coronavirus\n",
      "https://www.manilatimes.net/page/40/?s=coronavirus\n",
      "https://www.manilatimes.net/page/41/?s=coronavirus\n",
      "https://www.manilatimes.net/page/42/?s=coronavirus\n",
      "https://www.manilatimes.net/page/43/?s=coronavirus\n",
      "https://www.manilatimes.net/page/44/?s=coronavirus\n",
      "https://www.manilatimes.net/page/45/?s=coronavirus\n",
      "https://www.manilatimes.net/page/46/?s=coronavirus\n",
      "https://www.manilatimes.net/page/47/?s=coronavirus\n",
      "https://www.manilatimes.net/page/48/?s=coronavirus\n",
      "https://www.manilatimes.net/page/49/?s=coronavirus\n",
      "https://www.manilatimes.net/page/50/?s=coronavirus\n",
      "https://www.manilatimes.net/page/51/?s=coronavirus\n",
      "https://www.manilatimes.net/page/52/?s=coronavirus\n"
     ]
    }
   ],
   "source": [
    "user_agent = 'Mozilla/5.0 (X11; Ubuntu; Linux x86_64; rv:55.0)'\n",
    "page_url = 'https://www.manilatimes.net/?s=coronavirus'\n",
    "manila_times_news = []\n",
    "\n",
    "while page_url != False:\n",
    "    req = Request(page_url, headers={'User-Agent': 'Mozilla/5.0 (X11; Linux x86_64) AppleWebKit/537.11 (KHTML, like Gecko) Chrome/23.0.1271.64 Safari/537.11',\n",
    "        'Accept': 'text/html,application/xhtml+xml,application/xml;q=0.9,*/*;q=0.8',\n",
    "        'Accept-Charset': 'ISO-8859-1,utf-8;q=0.7,*;q=0.3',\n",
    "        'Accept-Encoding': 'none',\n",
    "        'Accept-Language': 'en-US,en;q=0.8',\n",
    "        'Connection': 'keep-alive'})\n",
    "    content = urlopen(req).read()\n",
    "    soup = BeautifulSoup(content)\n",
    "    res = (soup.find_all('a',{'rel':\"bookmark\"}))\n",
    "\n",
    "    manila_times_news += [url['href'] for url in res]\n",
    "    date = (soup.find_all('time'))\n",
    "    \n",
    "    page_link = soup.find('div',{'class':\"page-nav\"} )\n",
    "    \n",
    "    time.sleep(6)\n",
    "    if date[0]['datetime'] < '2020-01-20':\n",
    "        page_url = False\n",
    "    else:\n",
    "        page_url =  page_link.find_all('a')[-1]['href']\n",
    "        print(page_url)\n"
   ]
  },
  {
   "cell_type": "code",
   "execution_count": 37,
   "metadata": {},
   "outputs": [
    {
     "name": "stderr",
     "output_type": "stream",
     "text": [
      "C:\\Anaconda\\lib\\site-packages\\ipykernel_launcher.py:1: FutureWarning: The signature of `Series.to_csv` was aligned to that of `DataFrame.to_csv`, and argument 'header' will change its default value from False to True: please pass an explicit value to suppress this warning.\n",
      "  \"\"\"Entry point for launching an IPython kernel.\n"
     ]
    }
   ],
   "source": [
    "pd.Series(manila_times_news).to_csv('m_times_articles.csv', index = False)"
   ]
  },
  {
   "cell_type": "code",
   "execution_count": 72,
   "metadata": {},
   "outputs": [],
   "source": [
    "df = pd.read_csv('m_times_articles.csv');"
   ]
  },
  {
   "cell_type": "code",
   "execution_count": 73,
   "metadata": {},
   "outputs": [],
   "source": [
    "df = df.transpose()[0]"
   ]
  },
  {
   "cell_type": "code",
   "execution_count": 74,
   "metadata": {},
   "outputs": [
    {
     "data": {
      "text/plain": [
       "'https://www.manilatimes.net/2020/01/31/news/regions/mother-daughter-under-watch-for-ncov-in-nueva-vizcaya/678582/'"
      ]
     },
     "execution_count": 74,
     "metadata": {},
     "output_type": "execute_result"
    }
   ],
   "source": [
    "df['links']"
   ]
  },
  {
   "cell_type": "code",
   "execution_count": 77,
   "metadata": {},
   "outputs": [
    {
     "ename": "ValueError",
     "evalue": "unknown url type: 'h'",
     "output_type": "error",
     "traceback": [
      "\u001b[1;31m---------------------------------------------------------------------------\u001b[0m",
      "\u001b[1;31mValueError\u001b[0m                                Traceback (most recent call last)",
      "\u001b[1;32m<ipython-input-77-ef8c24a09577>\u001b[0m in \u001b[0;36m<module>\u001b[1;34m\u001b[0m\n\u001b[0;32m      7\u001b[0m         \u001b[1;34m'Accept-Encoding'\u001b[0m\u001b[1;33m:\u001b[0m \u001b[1;34m'none'\u001b[0m\u001b[1;33m,\u001b[0m\u001b[1;33m\u001b[0m\u001b[1;33m\u001b[0m\u001b[0m\n\u001b[0;32m      8\u001b[0m         \u001b[1;34m'Accept-Language'\u001b[0m\u001b[1;33m:\u001b[0m \u001b[1;34m'en-US,en;q=0.8'\u001b[0m\u001b[1;33m,\u001b[0m\u001b[1;33m\u001b[0m\u001b[1;33m\u001b[0m\u001b[0m\n\u001b[1;32m----> 9\u001b[1;33m         'Connection': 'keep-alive'})\n\u001b[0m\u001b[0;32m     10\u001b[0m     \u001b[0mcontent\u001b[0m \u001b[1;33m=\u001b[0m \u001b[0murlopen\u001b[0m\u001b[1;33m(\u001b[0m\u001b[0mreq\u001b[0m\u001b[1;33m)\u001b[0m\u001b[1;33m.\u001b[0m\u001b[0mread\u001b[0m\u001b[1;33m(\u001b[0m\u001b[1;33m)\u001b[0m\u001b[1;33m\u001b[0m\u001b[1;33m\u001b[0m\u001b[0m\n\u001b[0;32m     11\u001b[0m     \u001b[0msoup\u001b[0m \u001b[1;33m=\u001b[0m \u001b[0mBeautifulSoup\u001b[0m\u001b[1;33m(\u001b[0m\u001b[0mcontent\u001b[0m\u001b[1;33m)\u001b[0m\u001b[1;33m\u001b[0m\u001b[1;33m\u001b[0m\u001b[0m\n",
      "\u001b[1;32m~\\AppData\\Local\\Continuum\\anaconda3\\lib\\urllib\\request.py\u001b[0m in \u001b[0;36m__init__\u001b[1;34m(self, url, data, headers, origin_req_host, unverifiable, method)\u001b[0m\n\u001b[0;32m    326\u001b[0m                  \u001b[0morigin_req_host\u001b[0m\u001b[1;33m=\u001b[0m\u001b[1;32mNone\u001b[0m\u001b[1;33m,\u001b[0m \u001b[0munverifiable\u001b[0m\u001b[1;33m=\u001b[0m\u001b[1;32mFalse\u001b[0m\u001b[1;33m,\u001b[0m\u001b[1;33m\u001b[0m\u001b[1;33m\u001b[0m\u001b[0m\n\u001b[0;32m    327\u001b[0m                  method=None):\n\u001b[1;32m--> 328\u001b[1;33m         \u001b[0mself\u001b[0m\u001b[1;33m.\u001b[0m\u001b[0mfull_url\u001b[0m \u001b[1;33m=\u001b[0m \u001b[0murl\u001b[0m\u001b[1;33m\u001b[0m\u001b[1;33m\u001b[0m\u001b[0m\n\u001b[0m\u001b[0;32m    329\u001b[0m         \u001b[0mself\u001b[0m\u001b[1;33m.\u001b[0m\u001b[0mheaders\u001b[0m \u001b[1;33m=\u001b[0m \u001b[1;33m{\u001b[0m\u001b[1;33m}\u001b[0m\u001b[1;33m\u001b[0m\u001b[1;33m\u001b[0m\u001b[0m\n\u001b[0;32m    330\u001b[0m         \u001b[0mself\u001b[0m\u001b[1;33m.\u001b[0m\u001b[0munredirected_hdrs\u001b[0m \u001b[1;33m=\u001b[0m \u001b[1;33m{\u001b[0m\u001b[1;33m}\u001b[0m\u001b[1;33m\u001b[0m\u001b[1;33m\u001b[0m\u001b[0m\n",
      "\u001b[1;32m~\\AppData\\Local\\Continuum\\anaconda3\\lib\\urllib\\request.py\u001b[0m in \u001b[0;36mfull_url\u001b[1;34m(self, url)\u001b[0m\n\u001b[0;32m    352\u001b[0m         \u001b[0mself\u001b[0m\u001b[1;33m.\u001b[0m\u001b[0m_full_url\u001b[0m \u001b[1;33m=\u001b[0m \u001b[0munwrap\u001b[0m\u001b[1;33m(\u001b[0m\u001b[0murl\u001b[0m\u001b[1;33m)\u001b[0m\u001b[1;33m\u001b[0m\u001b[1;33m\u001b[0m\u001b[0m\n\u001b[0;32m    353\u001b[0m         \u001b[0mself\u001b[0m\u001b[1;33m.\u001b[0m\u001b[0m_full_url\u001b[0m\u001b[1;33m,\u001b[0m \u001b[0mself\u001b[0m\u001b[1;33m.\u001b[0m\u001b[0mfragment\u001b[0m \u001b[1;33m=\u001b[0m \u001b[0msplittag\u001b[0m\u001b[1;33m(\u001b[0m\u001b[0mself\u001b[0m\u001b[1;33m.\u001b[0m\u001b[0m_full_url\u001b[0m\u001b[1;33m)\u001b[0m\u001b[1;33m\u001b[0m\u001b[1;33m\u001b[0m\u001b[0m\n\u001b[1;32m--> 354\u001b[1;33m         \u001b[0mself\u001b[0m\u001b[1;33m.\u001b[0m\u001b[0m_parse\u001b[0m\u001b[1;33m(\u001b[0m\u001b[1;33m)\u001b[0m\u001b[1;33m\u001b[0m\u001b[1;33m\u001b[0m\u001b[0m\n\u001b[0m\u001b[0;32m    355\u001b[0m \u001b[1;33m\u001b[0m\u001b[0m\n\u001b[0;32m    356\u001b[0m     \u001b[1;33m@\u001b[0m\u001b[0mfull_url\u001b[0m\u001b[1;33m.\u001b[0m\u001b[0mdeleter\u001b[0m\u001b[1;33m\u001b[0m\u001b[1;33m\u001b[0m\u001b[0m\n",
      "\u001b[1;32m~\\AppData\\Local\\Continuum\\anaconda3\\lib\\urllib\\request.py\u001b[0m in \u001b[0;36m_parse\u001b[1;34m(self)\u001b[0m\n\u001b[0;32m    381\u001b[0m         \u001b[0mself\u001b[0m\u001b[1;33m.\u001b[0m\u001b[0mtype\u001b[0m\u001b[1;33m,\u001b[0m \u001b[0mrest\u001b[0m \u001b[1;33m=\u001b[0m \u001b[0msplittype\u001b[0m\u001b[1;33m(\u001b[0m\u001b[0mself\u001b[0m\u001b[1;33m.\u001b[0m\u001b[0m_full_url\u001b[0m\u001b[1;33m)\u001b[0m\u001b[1;33m\u001b[0m\u001b[1;33m\u001b[0m\u001b[0m\n\u001b[0;32m    382\u001b[0m         \u001b[1;32mif\u001b[0m \u001b[0mself\u001b[0m\u001b[1;33m.\u001b[0m\u001b[0mtype\u001b[0m \u001b[1;32mis\u001b[0m \u001b[1;32mNone\u001b[0m\u001b[1;33m:\u001b[0m\u001b[1;33m\u001b[0m\u001b[1;33m\u001b[0m\u001b[0m\n\u001b[1;32m--> 383\u001b[1;33m             \u001b[1;32mraise\u001b[0m \u001b[0mValueError\u001b[0m\u001b[1;33m(\u001b[0m\u001b[1;34m\"unknown url type: %r\"\u001b[0m \u001b[1;33m%\u001b[0m \u001b[0mself\u001b[0m\u001b[1;33m.\u001b[0m\u001b[0mfull_url\u001b[0m\u001b[1;33m)\u001b[0m\u001b[1;33m\u001b[0m\u001b[1;33m\u001b[0m\u001b[0m\n\u001b[0m\u001b[0;32m    384\u001b[0m         \u001b[0mself\u001b[0m\u001b[1;33m.\u001b[0m\u001b[0mhost\u001b[0m\u001b[1;33m,\u001b[0m \u001b[0mself\u001b[0m\u001b[1;33m.\u001b[0m\u001b[0mselector\u001b[0m \u001b[1;33m=\u001b[0m \u001b[0msplithost\u001b[0m\u001b[1;33m(\u001b[0m\u001b[0mrest\u001b[0m\u001b[1;33m)\u001b[0m\u001b[1;33m\u001b[0m\u001b[1;33m\u001b[0m\u001b[0m\n\u001b[0;32m    385\u001b[0m         \u001b[1;32mif\u001b[0m \u001b[0mself\u001b[0m\u001b[1;33m.\u001b[0m\u001b[0mhost\u001b[0m\u001b[1;33m:\u001b[0m\u001b[1;33m\u001b[0m\u001b[1;33m\u001b[0m\u001b[0m\n",
      "\u001b[1;31mValueError\u001b[0m: unknown url type: 'h'"
     ]
    }
   ],
   "source": [
    "mt_df = pd.DataFrame(columns = ['source_id','date','category','title','author','text'])\n",
    "for article in df['links']:  \n",
    "    user_agent = 'Mozilla/5.0 (X11; Ubuntu; Linux x86_64; rv:55.0) '\n",
    "    req = Request(article, headers={'User-Agent': \"Mozilla/5.0 (X11; Linux x86_64) AppleWebKit/537.11 (KHTML, like Gecko) Chrome/23.0.1271.64 Safari/537.11\",\n",
    "        'Accept': 'text/html,application/xhtml+xml,application/xml;q=0.9,*/*;q=0.8',\n",
    "        'Accept-Charset': 'ISO-8859-1,utf-8;q=0.7,*;q=0.3',\n",
    "        'Accept-Encoding': 'none',\n",
    "        'Accept-Language': 'en-US,en;q=0.8',\n",
    "        'Connection': 'keep-alive'})\n",
    "    content = urlopen(req).read()\n",
    "    soup = BeautifulSoup(content)\n",
    "\n",
    "    try:\n",
    "        article_id = ''\n",
    "\n",
    "        date = soup.find('time').text\n",
    "\n",
    "        category = 'nCov'\n",
    "        title = soup.find('h1', {'class' : 'tdb-title-text'}).text\n",
    "        author = soup.find('a', {'class' : 'tdb-author-name'}).text\n",
    "\n",
    "        text = soup.find('div', {'class' : 'td-post-content'})\n",
    "        text.find_all('p')\n",
    "\n",
    "        paragraph = \"\"\n",
    "        for x in text.find_all('p'):\n",
    "            paragraph += x.text.strip() + \" \" \n",
    "\n",
    "        text = paragraph\n",
    "    except AttributeError:\n",
    "        continue\n",
    "\n",
    "    print(title, date)\n",
    "    mt_df = mt_df.append(pd.Series([article_id,date,category, title,author, text], index = mt_df.columns ), ignore_index=True)\n",
    "    time.sleep(1)\n",
    "    \n",
    "#mt_df.to_csv('scraped_data/manila_times_scraped.csv', index = False)"
   ]
  },
  {
   "cell_type": "code",
   "execution_count": 70,
   "metadata": {},
   "outputs": [],
   "source": [
    "mt_df_holder = mt_df"
   ]
  },
  {
   "cell_type": "code",
   "execution_count": 71,
   "metadata": {},
   "outputs": [],
   "source": [
    "mt_df.to_csv('scraped_data/manila_times_scraped.csv', index = False)"
   ]
  },
  {
   "cell_type": "code",
   "execution_count": null,
   "metadata": {},
   "outputs": [],
   "source": []
  },
  {
   "cell_type": "code",
   "execution_count": 2,
   "metadata": {},
   "outputs": [],
   "source": [
    "from news_scrapers import get_abscbn"
   ]
  },
  {
   "cell_type": "code",
   "execution_count": 3,
   "metadata": {},
   "outputs": [
    {
     "name": "stderr",
     "output_type": "stream",
     "text": [
      "C:\\Users\\jrdaos\\Documents\\Notebooks\\Mago\\COVID19TrackerPH\\gab\\news_scrapers.py:24: UserWarning: No parser was explicitly specified, so I'm using the best available HTML parser for this system (\"lxml\"). This usually isn't a problem, but if you run this code on another system, or in a different virtual environment, it may use a different parser and behave differently.\n",
      "\n",
      "The code that caused this warning is on line 24 of the file C:\\Users\\jrdaos\\Documents\\Notebooks\\Mago\\COVID19TrackerPH\\gab\\news_scrapers.py. To get rid of this warning, pass the additional argument 'features=\"lxml\"' to the BeautifulSoup constructor.\n",
      "\n",
      "  soup = BeautifulSoup(content)\n",
      "C:\\Users\\jrdaos\\Documents\\Notebooks\\Mago\\COVID19TrackerPH\\gab\\news_scrapers.py:52: UserWarning: No parser was explicitly specified, so I'm using the best available HTML parser for this system (\"lxml\"). This usually isn't a problem, but if you run this code on another system, or in a different virtual environment, it may use a different parser and behave differently.\n",
      "\n",
      "The code that caused this warning is on line 52 of the file C:\\Users\\jrdaos\\Documents\\Notebooks\\Mago\\COVID19TrackerPH\\gab\\news_scrapers.py. To get rid of this warning, pass the additional argument 'features=\"lxml\"' to the BeautifulSoup constructor.\n",
      "\n",
      "  soup = BeautifulSoup(content)\n"
     ]
    },
    {
     "name": "stdout",
     "output_type": "stream",
     "text": [
      "CODE RED: Philippines' coronavirus cases rise to 6, DOH confirms local transmission Mar 07 2020\n",
      "Elderly must take extra precaution, avoid travel amid coronavirus outbreak - seniors' House rep Mar 07 2020\n",
      "Japan to void 2.8 million visas for Chinese amid coronavirus fears Mar 06 2020\n",
      "Netherlands records 1st death in coronavirus outbreak Mar 06 2020\n",
      "First Filipino coronavirus patient in Hong Kong released from hospital Mar 06 2020\n",
      "FIFA: Asian World Cup football qualifiers face postponement over COVID-19 Mar 05 2020\n",
      "Woman positive of coronavirus after trip to PH - Australian gov't Mar 05 2020\n",
      "USAID pledges funds to PH in fight vs coronavirus Mar 05 2020\n",
      "France shuts dozens of schools in bid to contain coronavirus Mar 03 2020\n",
      "No Filipino with coronavirus yet in Italy - DFA Mar 03 2020\n",
      "Air China launches PH-China flights for passengers stranded due to COVID-19 Mar 03 2020\n",
      "Football: Italian Serie-A matches postponed over coronavirus fears Feb 29 2020\n",
      "Iranian lawmaker dies from coronavirus as death toll rises to 43 — media Feb 29 2020\n",
      "Italian regional chief sorry for saying Chinese eat ‘live mice’ Feb 29 2020\n",
      "Mexico confirms first 3 cases of coronavirus, linked to Italy Feb 29 2020\n",
      "South Koreans told to stay home as coronavirus infections surpass 3,100 Feb 29 2020\n",
      "Football: Asian governing body assures community amid COVID-19 spread Feb 29 2020\n",
      "Tamang pagpapaaraw nakatutulong sa pag-iwas sa respiratory disease - eksperto Feb 29 2020\n",
      "US reports 4th coronavirus infection of unknown origin Feb 29 2020\n",
      "Japan cherry blossom festivals canceled as coronavirus fears grow Feb 29 2020\n",
      "QC trains village health workers in fight vs coronavirus Feb 29 2020\n",
      "Hong Kong pets face coronavirus quarantine after dog tests positive Feb 28 2020\n",
      "Japan calls for temporary closure of public schools over virus fears: Abe Feb 27 2020\n",
      "Which countries are affected by coronavirus in Europe? Feb 27 2020\n",
      "Japanese woman confirmed as coronavirus case for 2nd time, weeks after initial recovery Feb 27 2020\n",
      "Pandemic: What does it mean and does it matter? Feb 26 2020\n",
      "World ‘simply not ready’ for virus spread, says WHO China mission chief Feb 26 2020\n",
      "S. Korea to test 200,000 members of church at center of coronavirus outbreak Feb 25 2020\n",
      "WHO warns of pandemic risk after virus peaks in China Feb 25 2020\n",
      "4th person from quarantined Japan ship dies: local media Feb 25 2020\n",
      "5th coronavirus death in Italy as infections mount Feb 24 2020\n",
      "Russia-linked disinformation campaign fueling coronavirus alarm, US says Feb 22 2020\n",
      "Iran reports 1 death among 10 new COVID-19 cases Feb 22 2020\n",
      "Chinese provincial gov’t: COVID-19 incubation could be as long as 27 days Feb 22 2020\n"
     ]
    }
   ],
   "source": [
    "get_abscbn()"
   ]
  },
  {
   "cell_type": "code",
   "execution_count": null,
   "metadata": {},
   "outputs": [],
   "source": []
  }
 ],
 "metadata": {
  "kernelspec": {
   "display_name": "Python 3",
   "language": "python",
   "name": "python3"
  },
  "language_info": {
   "codemirror_mode": {
    "name": "ipython",
    "version": 3
   },
   "file_extension": ".py",
   "mimetype": "text/x-python",
   "name": "python",
   "nbconvert_exporter": "python",
   "pygments_lexer": "ipython3",
   "version": "3.7.3"
  }
 },
 "nbformat": 4,
 "nbformat_minor": 4
}

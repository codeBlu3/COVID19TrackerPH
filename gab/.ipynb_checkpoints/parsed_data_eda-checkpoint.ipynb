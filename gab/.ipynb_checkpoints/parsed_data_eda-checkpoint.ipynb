{
 "cells": [
  {
   "cell_type": "code",
   "execution_count": 21,
   "metadata": {},
   "outputs": [],
   "source": [
    "import pandas as pd\n",
    "import ast"
   ]
  },
  {
   "cell_type": "code",
   "execution_count": 3,
   "metadata": {},
   "outputs": [],
   "source": [
    "df = pd.read_csv('raw_parsed_data_articles.csv')"
   ]
  },
  {
   "cell_type": "markdown",
   "metadata": {},
   "source": [
    "# Most Common Word paired with numbers on COVID articles"
   ]
  },
  {
   "cell_type": "code",
   "execution_count": 55,
   "metadata": {},
   "outputs": [],
   "source": [
    "flat_list = []\n",
    "for sublist in df['count_docs']:\n",
    "    for item in ast.literal_eval(sublist):\n",
    "        flat_list.append(item)"
   ]
  },
  {
   "cell_type": "code",
   "execution_count": 56,
   "metadata": {},
   "outputs": [
    {
     "data": {
      "text/plain": [
       "people         1175\n",
       "percent         932\n",
       "novel           560\n",
       "million         490\n",
       "cases           468\n",
       "and             450\n",
       "days            420\n",
       "to              364\n",
       "in              355\n",
       "billion         330\n",
       "confirmed       296\n",
       "Filipinos       241\n",
       "of              241\n",
       "countries       235\n",
       "patients        234\n",
       "new             231\n",
       "passengers      172\n",
       "deaths          158\n",
       "nCoV            154\n",
       "have            152\n",
       "on              124\n",
       "hours           112\n",
       "as              109\n",
       "from            106\n",
       "other           101\n",
       "more            100\n",
       "years            99\n",
       "are              99\n",
       "were             95\n",
       "Chinese          89\n",
       "others           88\n",
       "outbreak         82\n",
       "persons          70\n",
       "Novel            68\n",
       "coronavirus      67\n",
       "a                67\n",
       "lives            64\n",
       "after            60\n",
       "points           60\n",
       "infections       58\n",
       "Filipino         58\n",
       "or               56\n",
       "months           49\n",
       "PUIs             45\n",
       "is               45\n",
       "who              44\n",
       "pm               44\n",
       "weeks            44\n",
       "that             43\n",
       "for              40\n",
       "with             40\n",
       "virus            39\n",
       "crew             37\n",
       "beds             37\n",
       "was              36\n",
       "miles            35\n",
       "at               34\n",
       "reported         33\n",
       "shows            32\n",
       "infected         32\n",
       "dtype: int64"
      ]
     },
     "execution_count": 56,
     "metadata": {},
     "output_type": "execute_result"
    }
   ],
   "source": [
    "pd.Series([word.split(' ')[-1] for word in flat_list]).value_counts().head(60)"
   ]
  },
  {
   "cell_type": "markdown",
   "metadata": {},
   "source": [
    "# Most common numerical phrases"
   ]
  },
  {
   "cell_type": "code",
   "execution_count": 43,
   "metadata": {},
   "outputs": [
    {
     "data": {
      "text/plain": [
       "2019 novel          551\n",
       "14 days             269\n",
       "2019 nCoV           153\n",
       "3 confirmed          88\n",
       "2019 Novel           68\n",
       "11 million           64\n",
       "19 outbreak          59\n",
       "19 cases             57\n",
       "5 million            50\n",
       "10 days              50\n",
       "24 hours             49\n",
       "3 percent            46\n",
       "5 percent            44\n",
       "1 percent            42\n",
       "6 percent            39\n",
       "2 percent            37\n",
       "25 countries         37\n",
       "9 percent            36\n",
       "1 in                 35\n",
       "3,700 passengers     34\n",
       "4 percent            34\n",
       "20 countries         33\n",
       "19 and               32\n",
       "19 coronavirus       30\n",
       "50 percent           29\n",
       "48 hours             29\n",
       "5 billion            28\n",
       "800 people           28\n",
       "50 million           28\n",
       "7 percent            27\n",
       "2020 shows           27\n",
       "90 percent           27\n",
       "30 Filipinos         26\n",
       "19 in                26\n",
       "200 people           25\n",
       "10 percent           24\n",
       "8 billion            24\n",
       "2 to                 23\n",
       "300 people           23\n",
       "8 percent            22\n",
       "500 people           22\n",
       "10,000 people        22\n",
       "19 virus             21\n",
       "1\\n\\n\\n\\nThere       21\n",
       "19 epidemic          21\n",
       "17 percent           21\n",
       "2 in                 21\n",
       "2019 coronavirus     21\n",
       "80,000 people        21\n",
       "56 million           20\n",
       "dtype: int64"
      ]
     },
     "execution_count": 43,
     "metadata": {},
     "output_type": "execute_result"
    }
   ],
   "source": [
    "pd.Series(flat_list).value_counts().head(50)"
   ]
  },
  {
   "cell_type": "markdown",
   "metadata": {},
   "source": [
    "# Most common Bigrams"
   ]
  },
  {
   "cell_type": "code",
   "execution_count": 44,
   "metadata": {},
   "outputs": [],
   "source": [
    "flat_list = []\n",
    "for sublist in df['bigrams']:\n",
    "    for item in ast.literal_eval(sublist):\n",
    "        flat_list.append(item)"
   ]
  },
  {
   "cell_type": "code",
   "execution_count": 51,
   "metadata": {},
   "outputs": [
    {
     "data": {
      "text/plain": [
       "(., The)                   4715\n",
       "(,, ”)                     3246\n",
       "(., “)                     3222\n",
       "(said, .)                  2048\n",
       "(novel, coronavirus)       1812\n",
       "(Hong, Kong)               1301\n",
       "(China, ,)                 1283\n",
       "(., ``)                    1062\n",
       "(”, said)                  1053\n",
       "(,, '')                    1033\n",
       "(,, said)                   931\n",
       "(., In)                     855\n",
       "(Tags, :)                   848\n",
       "(:, ncov)                   847\n",
       "(China, .)                  839\n",
       "(,, 2020)                   839\n",
       "(Wuhan, ,)                  838\n",
       "(., ()                      831\n",
       "(), ,)                      803\n",
       "(,, China)                  775\n",
       "(,, including)              685\n",
       "(Department, Health)        658\n",
       "(coronavirus, ,)            644\n",
       "(virus, .)                  638\n",
       "(., But)                    630\n",
       "(new, coronavirus)          630\n",
       "(confirmed, cases)          626\n",
       "(., It)                     622\n",
       "(), .)                      621\n",
       "(2020, .)                   615\n",
       "(virus, ,)                  612\n",
       "(added, .)                  607\n",
       "(World, Health)             596\n",
       "(China, ’)                  592\n",
       "(., He)                     579\n",
       "(“, We)                     576\n",
       "(Health, Organization)      576\n",
       "(cruise, ship)              558\n",
       "(., Tags)                   553\n",
       "(2019, novel)               550\n",
       "(., A)                      534\n",
       "(South, Korea)              527\n",
       "(tested, positive)          522\n",
       "(BULLETIN, ))               515\n",
       "(Hubei, province)           511\n",
       "(coronavirus, .)            487\n",
       "(., –)                      484\n",
       "(coronavirus, outbreak)     481\n",
       "(MANILA, BULLETIN)          456\n",
       "(“, The)                    447\n",
       "(,, according)              437\n",
       "(,, February)               436\n",
       "(Diamond, Princess)         430\n",
       "((, 2019-nCoV)              423\n",
       "(outbreak, .)               420\n",
       "(,, Philippines)            416\n",
       "(,, January)                409\n",
       "(travel, ban)               397\n",
       "(–, Rappler.com)            395\n",
       "(mainland, China)           394\n",
       "dtype: int64"
      ]
     },
     "execution_count": 51,
     "metadata": {},
     "output_type": "execute_result"
    }
   ],
   "source": [
    "pd.Series(flat_list).value_counts().head(60)"
   ]
  },
  {
   "cell_type": "markdown",
   "metadata": {},
   "source": [
    "# Most common Trigrams"
   ]
  },
  {
   "cell_type": "code",
   "execution_count": 52,
   "metadata": {},
   "outputs": [],
   "source": [
    "flat_list = []\n",
    "for sublist in df['trigrams']:\n",
    "    for item in ast.literal_eval(sublist):\n",
    "        flat_list.append(item)"
   ]
  },
  {
   "cell_type": "code",
   "execution_count": 53,
   "metadata": {},
   "outputs": [
    {
     "data": {
      "text/plain": [
       "(,, ”, said)                         1025\n",
       "(Tags, :, ncov)                       847\n",
       "(World, Health, Organization)         575\n",
       "(,, 2020, .)                          570\n",
       "(., Tags, :)                          553\n",
       "(2019, novel, coronavirus)            527\n",
       "(”, said, .)                          525\n",
       "(., “, We)                            484\n",
       "(MANILA, BULLETIN, ))                 392\n",
       "(., “, The)                           377\n",
       "(/, MANILA, BULLETIN)                 375\n",
       "(Department, Health, ()               359\n",
       "(., –, Rappler.com)                   350\n",
       "(said, ., “)                          347\n",
       "(,, ”, added)                         337\n",
       "(novel, coronavirus, ()               329\n",
       "(Hong, Kong, ,)                       312\n",
       "(”, added, .)                         312\n",
       "((, DOH, ))                           305\n",
       "(Health, (, DOH)                      299\n",
       "(said, ., The)                        292\n",
       "(,, Hong, Kong)                       281\n",
       "(,, '', said)                         277\n",
       "(Wuhan, ,, China)                     273\n",
       "(acute, respiratory, disease)         272\n",
       "((, 2019-nCoV, ))                     263\n",
       "(,, China, ,)                         259\n",
       "(,, Philippines, –)                   257\n",
       "(MANILA, ,, Philippines)              246\n",
       "((, WHO, ))                           245\n",
       "((, READ, :)                          239\n",
       "(READ, MORE, :)                       233\n",
       "(coronavirus, (, 2019-nCoV)           230\n",
       "(., (, READ)                          230\n",
       "(coronavirus, acute, respiratory)     229\n",
       "(Health, Organization, ()             229\n",
       "(Secretary, Francisco, Duque)         228\n",
       "(Organization, (, WHO)                226\n",
       "(By, Agence, France-Presse)           219\n",
       "(2020, ., ()                          217\n",
       "(novel, coronavirus, .)               211\n",
       "(., READ, MORE)                       210\n",
       "(., “, I)                             207\n",
       "(Lunar, New, Year)                    206\n",
       "(Hubei, province, ,)                  205\n",
       "(novel, coronavirus, acute)           202\n",
       "(respiratory, disease, ()             199\n",
       "(The, World, Health)                  192\n",
       "(Health, Secretary, Francisco)        186\n",
       "(novel, coronavirus, ,)               182\n",
       "(coronavirus, disease, 2019)          176\n",
       "(New, Clark, City)                    174\n",
       "(Francisco, Duque, III)               174\n",
       "(., Meanwhile, ,)                     172\n",
       "(., He, said)                         171\n",
       "(,, however, ,)                       162\n",
       "(2019-nCoV, ARD, ))                   161\n",
       "((, 2019-nCoV, ARD)                   160\n",
       "(Department, Foreign, Affairs)        155\n",
       "(., ``, We)                           155\n",
       "dtype: int64"
      ]
     },
     "execution_count": 53,
     "metadata": {},
     "output_type": "execute_result"
    }
   ],
   "source": [
    "pd.Series(flat_list).value_counts().head(60)"
   ]
  },
  {
   "cell_type": "code",
   "execution_count": null,
   "metadata": {},
   "outputs": [],
   "source": []
  }
 ],
 "metadata": {
  "kernelspec": {
   "display_name": "Python 3",
   "language": "python",
   "name": "python3"
  },
  "language_info": {
   "codemirror_mode": {
    "name": "ipython",
    "version": 3
   },
   "file_extension": ".py",
   "mimetype": "text/x-python",
   "name": "python",
   "nbconvert_exporter": "python",
   "pygments_lexer": "ipython3",
   "version": "3.7.3"
  }
 },
 "nbformat": 4,
 "nbformat_minor": 4
}
